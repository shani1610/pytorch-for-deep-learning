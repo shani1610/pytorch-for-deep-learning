{
  "cells": [
    {
      "cell_type": "markdown",
      "metadata": {
        "id": "view-in-github",
        "colab_type": "text"
      },
      "source": [
        "<a href=\"https://colab.research.google.com/github/shani1610/pytorch-for-deep-learning/blob/main/pytorch_tutorials/nn_tutorial.ipynb\" target=\"_parent\"><img src=\"https://colab.research.google.com/assets/colab-badge.svg\" alt=\"Open In Colab\"/></a>"
      ]
    },
    {
      "cell_type": "code",
      "execution_count": 1,
      "metadata": {
        "id": "knblQt5H3jR3"
      },
      "outputs": [],
      "source": [
        "# For tips on running notebooks in Google Colab, see\n",
        "# https://pytorch.org/tutorials/beginner/colab\n",
        "%matplotlib inline"
      ]
    },
    {
      "cell_type": "markdown",
      "metadata": {
        "id": "1JUjyrJ93jR8"
      },
      "source": [
        "What is [torch.nn]{.title-ref} *really*?\n",
        "========================================\n",
        "\n",
        "**Authors:** Jeremy Howard, [fast.ai](https://www.fast.ai). Thanks to\n",
        "Rachel Thomas and Francisco Ingham.\n"
      ]
    },
    {
      "cell_type": "markdown",
      "metadata": {
        "id": "XhE3vgZp3jR-"
      },
      "source": [
        "We recommend running this tutorial as a notebook, not a script. To\n",
        "download the notebook (`.ipynb`) file, click the link at the top of the\n",
        "page.\n",
        "\n",
        "PyTorch provides the elegantly designed modules and classes\n",
        "[torch.nn](https://pytorch.org/docs/stable/nn.html) ,\n",
        "[torch.optim](https://pytorch.org/docs/stable/optim.html) ,\n",
        "[Dataset](https://pytorch.org/docs/stable/data.html?highlight=dataset#torch.utils.data.Dataset)\n",
        ", and\n",
        "[DataLoader](https://pytorch.org/docs/stable/data.html?highlight=dataloader#torch.utils.data.DataLoader)\n",
        "to help you create and train neural networks. In order to fully utilize\n",
        "their power and customize them for your problem, you need to really\n",
        "understand exactly what they\\'re doing. To develop this understanding,\n",
        "we will first train basic neural net on the MNIST data set without using\n",
        "any features from these models; we will initially only use the most\n",
        "basic PyTorch tensor functionality. Then, we will incrementally add one\n",
        "feature from `torch.nn`, `torch.optim`, `Dataset`, or `DataLoader` at a\n",
        "time, showing exactly what each piece does, and how it works to make the\n",
        "code either more concise, or more flexible.\n",
        "\n",
        "**This tutorial assumes you already have PyTorch installed, and are\n",
        "familiar with the basics of tensor operations.** (If you\\'re familiar\n",
        "with Numpy array operations, you\\'ll find the PyTorch tensor operations\n",
        "used here nearly identical).\n",
        "\n",
        "MNIST data setup\n",
        "================\n",
        "\n",
        "We will use the classic [MNIST](http://deeplearning.net/data/mnist/)\n",
        "dataset, which consists of black-and-white images of hand-drawn digits\n",
        "(between 0 and 9).\n",
        "\n",
        "We will use [pathlib](https://docs.python.org/3/library/pathlib.html)\n",
        "for dealing with paths (part of the Python 3 standard library), and will\n",
        "download the dataset using\n",
        "[requests](http://docs.python-requests.org/en/master/). We will only\n",
        "import modules when we use them, so you can see exactly what\\'s being\n",
        "used at each point.\n"
      ]
    },
    {
      "cell_type": "code",
      "execution_count": 2,
      "metadata": {
        "id": "WpgpSgBQ3jR_"
      },
      "outputs": [],
      "source": [
        "from pathlib import Path\n",
        "import requests\n",
        "\n",
        "DATA_PATH = Path(\"data\")\n",
        "PATH = DATA_PATH / \"mnist\"\n",
        "\n",
        "PATH.mkdir(parents=True, exist_ok=True)\n",
        "\n",
        "URL = \"https://github.com/pytorch/tutorials/raw/main/_static/\"\n",
        "FILENAME = \"mnist.pkl.gz\"\n",
        "\n",
        "if not (PATH / FILENAME).exists():\n",
        "        content = requests.get(URL + FILENAME).content\n",
        "        (PATH / FILENAME).open(\"wb\").write(content)"
      ]
    },
    {
      "cell_type": "markdown",
      "metadata": {
        "id": "ANyVH18D3jSA"
      },
      "source": [
        "This dataset is in numpy array format, and has been stored using pickle,\n",
        "a python-specific format for serializing data.\n"
      ]
    },
    {
      "cell_type": "code",
      "execution_count": 3,
      "metadata": {
        "id": "liUKGPdO3jSA"
      },
      "outputs": [],
      "source": [
        "import pickle\n",
        "import gzip\n",
        "\n",
        "with gzip.open((PATH / FILENAME).as_posix(), \"rb\") as f:\n",
        "        ((x_train, y_train), (x_valid, y_valid), _) = pickle.load(f, encoding=\"latin-1\")"
      ]
    },
    {
      "cell_type": "markdown",
      "metadata": {
        "id": "Dyh8nPZm3jSB"
      },
      "source": [
        "Each image is 28 x 28, and is being stored as a flattened row of length\n",
        "784 (=28x28). Let\\'s take a look at one; we need to reshape it to 2d\n",
        "first.\n"
      ]
    },
    {
      "cell_type": "code",
      "execution_count": 4,
      "metadata": {
        "id": "WOgxeXXf3jSC",
        "outputId": "f866bdb5-9be1-4a1a-9644-9e9b68363cce",
        "colab": {
          "base_uri": "https://localhost:8080/",
          "height": 448
        }
      },
      "outputs": [
        {
          "output_type": "stream",
          "name": "stdout",
          "text": [
            "(50000, 784)\n"
          ]
        },
        {
          "output_type": "display_data",
          "data": {
            "text/plain": [
              "<Figure size 640x480 with 1 Axes>"
            ],
            "image/png": "[encoded data removed]"
          },
          "metadata": {}
        }
      ],
      "source": [
        "from matplotlib import pyplot\n",
        "import numpy as np\n",
        "\n",
        "pyplot.imshow(x_train[0].reshape((28, 28)), cmap=\"gray\")\n",
        "# ``pyplot.show()`` only if not on Colab\n",
        "try:\n",
        "    import google.colab\n",
        "except ImportError:\n",
        "    pyplot.show()\n",
        "print(x_train.shape)"
      ]
    },
    {
      "cell_type": "code",
      "source": [
        "pyplot.imshow(x_train[1].reshape((28, 28)), cmap=\"gray\")\n"
      ],
      "metadata": {
        "id": "8qktAFVf4tMr",
        "outputId": "ca6b45d9-1603-4007-9f55-56f6ec4e7f63",
        "colab": {
          "base_uri": "https://localhost:8080/",
          "height": 448
        }
      },
      "execution_count": 5,
      "outputs": [
        {
          "output_type": "execute_result",
          "data": {
            "text/plain": [
              "<matplotlib.image.AxesImage at 0x7b1be0190940>"
            ]
          },
          "metadata": {},
          "execution_count": 5
        },
        {
          "output_type": "display_data",
          "data": {
            "text/plain": [
              "<Figure size 640x480 with 1 Axes>"
            ],
            "image/png": "[encoded data removed]"
          },
          "metadata": {}
        }
      ]
    },
    {
      "cell_type": "markdown",
      "metadata": {
        "id": "U4nOP6i43jSD"
      },
      "source": [
        "PyTorch uses `torch.tensor`, rather than numpy arrays, so we need to\n",
        "convert our data.\n"
      ]
    },
    {
      "cell_type": "code",
      "execution_count": 6,
      "metadata": {
        "id": "pNl_DJ163jSD",
        "outputId": "357ee0af-d9c1-4448-e601-f380a0ee724f",
        "colab": {
          "base_uri": "https://localhost:8080/"
        }
      },
      "outputs": [
        {
          "output_type": "stream",
          "name": "stdout",
          "text": [
            "tensor([[0., 0., 0.,  ..., 0., 0., 0.],\n",
            "        [0., 0., 0.,  ..., 0., 0., 0.],\n",
            "        [0., 0., 0.,  ..., 0., 0., 0.],\n",
            "        ...,\n",
            "        [0., 0., 0.,  ..., 0., 0., 0.],\n",
            "        [0., 0., 0.,  ..., 0., 0., 0.],\n",
            "        [0., 0., 0.,  ..., 0., 0., 0.]]) tensor([5, 0, 4,  ..., 8, 4, 8])\n",
            "torch.Size([50000, 784])\n",
            "tensor(0) tensor(9)\n"
          ]
        }
      ],
      "source": [
        "import torch\n",
        "\n",
        "x_train, y_train, x_valid, y_valid = map(\n",
        "    torch.tensor, (x_train, y_train, x_valid, y_valid)\n",
        ")\n",
        "n, c = x_train.shape\n",
        "print(x_train, y_train)\n",
        "print(x_train.shape)\n",
        "print(y_train.min(), y_train.max())"
      ]
    },
    {
      "cell_type": "markdown",
      "metadata": {
        "id": "fA3rkqvD3jSE"
      },
      "source": [
        "Neural net from scratch (without `torch.nn`)\n",
        "============================================\n",
        "\n",
        "Let\\'s first create a model using nothing but PyTorch tensor operations.\n",
        "We\\'re assuming you\\'re already familiar with the basics of neural\n",
        "networks. (If you\\'re not, you can learn them at\n",
        "[course.fast.ai](https://course.fast.ai)).\n",
        "\n",
        "PyTorch provides methods to create random or zero-filled tensors, which\n",
        "we will use to create our weights and bias for a simple linear model.\n",
        "These are just regular tensors, with one very special addition: we tell\n",
        "PyTorch that they require a gradient. This causes PyTorch to record all\n",
        "of the operations done on the tensor, so that it can calculate the\n",
        "gradient during back-propagation *automatically*!\n",
        "\n",
        "For the weights, we set `requires_grad` **after** the initialization,\n",
        "since we don\\'t want that step included in the gradient. (Note that a\n",
        "trailing `_` in PyTorch signifies that the operation is performed\n",
        "in-place.)\n",
        "\n",
        "<div style=\"background-color: #54c7ec; color: #fff; font-weight: 700; padding-left: 10px; padding-top: 5px; padding-bottom: 5px\"><strong>NOTE:</strong></div>\n",
        "<div style=\"background-color: #f3f4f7; padding-left: 10px; padding-top: 10px; padding-bottom: 10px; padding-right: 10px\">\n",
        "<p>We are initializing the weights here with<a href=\"http://proceedings.mlr.press/v9/glorot10a/glorot10a.pdf\">Xavier initialisation</a>(by multiplying with <code>1/sqrt(n)</code>).</p>\n",
        "</div>\n"
      ]
    },
    {
      "cell_type": "code",
      "execution_count": 7,
      "metadata": {
        "id": "2Q9ZvQCr3jSE"
      },
      "outputs": [],
      "source": [
        "import math\n",
        "\n",
        "weights = torch.randn(784, 10) / math.sqrt(784)\n",
        "weights.requires_grad_()\n",
        "bias = torch.zeros(10, requires_grad=True)"
      ]
    },
    {
      "cell_type": "code",
      "source": [
        "weights = torch.randn(784, 10) / math.sqrt(784)"
      ],
      "metadata": {
        "id": "TCYWuL6769ih"
      },
      "execution_count": 39,
      "outputs": []
    },
    {
      "cell_type": "code",
      "source": [
        "weights.requires_grad_()\n"
      ],
      "metadata": {
        "id": "P-TS_7Dr7HQ2",
        "outputId": "ec307ba7-8232-403b-d5c6-51d580a6cf30",
        "colab": {
          "base_uri": "https://localhost:8080/"
        }
      },
      "execution_count": 43,
      "outputs": [
        {
          "output_type": "execute_result",
          "data": {
            "text/plain": [
              "tensor([[ 0.0319,  0.0080, -0.0095,  ...,  0.0098,  0.0386, -0.0063],\n",
              "        [-0.0340, -0.0003, -0.0245,  ..., -0.0316, -0.0170,  0.0123],\n",
              "        [-0.0245,  0.0671,  0.0671,  ..., -0.0433, -0.0120,  0.0335],\n",
              "        ...,\n",
              "        [-0.0053,  0.0272, -0.0605,  ...,  0.0375,  0.0307,  0.0098],\n",
              "        [ 0.0004, -0.0343, -0.0130,  ..., -0.0373, -0.0514, -0.0434],\n",
              "        [-0.0283, -0.0185, -0.0083,  ...,  0.1025,  0.0151, -0.0077]],\n",
              "       requires_grad=True)"
            ]
          },
          "metadata": {},
          "execution_count": 43
        }
      ]
    },
    {
      "cell_type": "code",
      "source": [
        "weights"
      ],
      "metadata": {
        "id": "_fR5GbM96-Vh",
        "outputId": "8188dbad-9037-4fee-a134-44abb6c5e818",
        "colab": {
          "base_uri": "https://localhost:8080/"
        }
      },
      "execution_count": 45,
      "outputs": [
        {
          "output_type": "execute_result",
          "data": {
            "text/plain": [
              "tensor([[ 0.0319,  0.0080, -0.0095,  ...,  0.0098,  0.0386, -0.0063],\n",
              "        [-0.0340, -0.0003, -0.0245,  ..., -0.0316, -0.0170,  0.0123],\n",
              "        [-0.0245,  0.0671,  0.0671,  ..., -0.0433, -0.0120,  0.0335],\n",
              "        ...,\n",
              "        [-0.0053,  0.0272, -0.0605,  ...,  0.0375,  0.0307,  0.0098],\n",
              "        [ 0.0004, -0.0343, -0.0130,  ..., -0.0373, -0.0514, -0.0434],\n",
              "        [-0.0283, -0.0185, -0.0083,  ...,  0.1025,  0.0151, -0.0077]],\n",
              "       requires_grad=True)"
            ]
          },
          "metadata": {},
          "execution_count": 45
        }
      ]
    },
    {
      "cell_type": "code",
      "source": [
        "print(weights.grad)"
      ],
      "metadata": {
        "id": "Sy0f1GTw6_mF",
        "outputId": "3000a563-41f4-4df0-dee8-3e43c177edcd",
        "colab": {
          "base_uri": "https://localhost:8080/"
        }
      },
      "execution_count": 46,
      "outputs": [
        {
          "output_type": "stream",
          "name": "stdout",
          "text": [
            "None\n"
          ]
        }
      ]
    },
    {
      "cell_type": "markdown",
      "metadata": {
        "id": "ikLOWYSr3jSE"
      },
      "source": [
        "Thanks to PyTorch\\'s ability to calculate gradients automatically, we\n",
        "can use any standard Python function (or callable object) as a model! So\n",
        "let\\'s just write a plain matrix multiplication and broadcasted addition\n",
        "to create a simple linear model. We also need an activation function, so\n",
        "we\\'ll write [log\\_softmax]{.title-ref} and use it. Remember: although\n",
        "PyTorch provides lots of prewritten loss functions, activation\n",
        "functions, and so forth, you can easily write your own using plain\n",
        "python. PyTorch will even create fast GPU or vectorized CPU code for\n",
        "your function automatically.\n"
      ]
    },
    {
      "cell_type": "code",
      "execution_count": 8,
      "metadata": {
        "id": "71QZr-KG3jSF"
      },
      "outputs": [],
      "source": [
        "def log_softmax(x):\n",
        "    return x - x.exp().sum(-1).log().unsqueeze(-1)\n",
        "\n",
        "def model(xb):\n",
        "    return log_softmax(xb @ weights + bias)"
      ]
    },
    {
      "cell_type": "markdown",
      "metadata": {
        "id": "Jldfrh193jSF"
      },
      "source": [
        "In the above, the `@` stands for the matrix multiplication operation. We\n",
        "will call our function on one batch of data (in this case, 64 images).\n",
        "This is one *forward pass*. Note that our predictions won\\'t be any\n",
        "better than random at this stage, since we start with random weights.\n"
      ]
    },
    {
      "cell_type": "code",
      "execution_count": 9,
      "metadata": {
        "id": "JTS9GSU83jSF",
        "outputId": "4dbc86c0-abe7-4873-b191-b63ddfed3eb0",
        "colab": {
          "base_uri": "https://localhost:8080/"
        }
      },
      "outputs": [
        {
          "output_type": "stream",
          "name": "stdout",
          "text": [
            "tensor([-2.2727, -2.2156, -2.4413, -2.4073, -2.0171, -2.1137, -2.0052, -2.6773,\n",
            "        -2.8270, -2.3606], grad_fn=<SelectBackward0>) torch.Size([64, 10])\n"
          ]
        }
      ],
      "source": [
        "bs = 64  # batch size\n",
        "\n",
        "xb = x_train[0:bs]  # a mini-batch from x\n",
        "preds = model(xb)  # predictions\n",
        "preds[0], preds.shape\n",
        "print(preds[0], preds.shape)"
      ]
    },
    {
      "cell_type": "markdown",
      "metadata": {
        "id": "2kG-ClnX3jSF"
      },
      "source": [
        "As you see, the `preds` tensor contains not only the tensor values, but\n",
        "also a gradient function. We\\'ll use this later to do backprop.\n",
        "\n",
        "Let\\'s implement negative log-likelihood to use as the loss function\n",
        "(again, we can just use standard Python):\n"
      ]
    },
    {
      "cell_type": "code",
      "source": [
        "# trying without the requires_grad_()\n",
        "weights2 = torch.randn(784, 10) / math.sqrt(784)\n",
        "bias2 = torch.zeros(10, requires_grad=True)\n",
        "def model(xb):\n",
        "    return log_softmax(xb @ weights2 + bias2)\n",
        "preds2 = model(xb)  # predictions\n",
        "preds2[0], preds2.shape\n",
        "print(preds2[0], preds2.shape)"
      ],
      "metadata": {
        "id": "DftdzXUjvE5m",
        "outputId": "79296958-6056-456d-9883-55f23b643534",
        "colab": {
          "base_uri": "https://localhost:8080/"
        }
      },
      "execution_count": 13,
      "outputs": [
        {
          "output_type": "stream",
          "name": "stdout",
          "text": [
            "tensor([-3.0270, -2.3755, -1.9334, -2.6512, -1.6497, -2.5128, -1.9303, -2.9906,\n",
            "        -2.2428, -2.6782], grad_fn=<SelectBackward0>) torch.Size([64, 10])\n"
          ]
        }
      ]
    },
    {
      "cell_type": "code",
      "source": [
        "yb = y_train[0:bs]\n",
        "preds.shape, yb.shape\n"
      ],
      "metadata": {
        "id": "gQOTc3Hr198n",
        "outputId": "e4d39987-1ed6-4881-c8f5-c0776bab13d3",
        "colab": {
          "base_uri": "https://localhost:8080/"
        }
      },
      "execution_count": 17,
      "outputs": [
        {
          "output_type": "execute_result",
          "data": {
            "text/plain": [
              "(torch.Size([64, 10]), torch.Size([64]))"
            ]
          },
          "metadata": {},
          "execution_count": 17
        }
      ]
    },
    {
      "cell_type": "code",
      "source": [
        "yb.shape[0]"
      ],
      "metadata": {
        "id": "ihnpJKQL2Q_V",
        "outputId": "83dac433-e35a-41cb-b4b2-5ccf5f3632f9",
        "colab": {
          "base_uri": "https://localhost:8080/"
        }
      },
      "execution_count": 18,
      "outputs": [
        {
          "output_type": "execute_result",
          "data": {
            "text/plain": [
              "64"
            ]
          },
          "metadata": {},
          "execution_count": 18
        }
      ]
    },
    {
      "cell_type": "code",
      "source": [
        "yb"
      ],
      "metadata": {
        "id": "V7NUWZBx2o5J",
        "outputId": "0356dd6a-770e-4a9f-ee0a-4ae9c5f7eb91",
        "colab": {
          "base_uri": "https://localhost:8080/"
        }
      },
      "execution_count": 21,
      "outputs": [
        {
          "output_type": "execute_result",
          "data": {
            "text/plain": [
              "tensor([5, 0, 4, 1, 9, 2, 1, 3, 1, 4, 3, 5, 3, 6, 1, 7, 2, 8, 6, 9, 4, 0, 9, 1,\n",
              "        1, 2, 4, 3, 2, 7, 3, 8, 6, 9, 0, 5, 6, 0, 7, 6, 1, 8, 7, 9, 3, 9, 8, 5,\n",
              "        9, 3, 3, 0, 7, 4, 9, 8, 0, 9, 4, 1, 4, 4, 6, 0])"
            ]
          },
          "metadata": {},
          "execution_count": 21
        }
      ]
    },
    {
      "cell_type": "code",
      "source": [
        "preds"
      ],
      "metadata": {
        "id": "iKJZ5LVa2rDE",
        "outputId": "6e23d592-8506-4f9b-aa33-47436ecd59e5",
        "colab": {
          "base_uri": "https://localhost:8080/"
        }
      },
      "execution_count": 22,
      "outputs": [
        {
          "output_type": "execute_result",
          "data": {
            "text/plain": [
              "tensor([[-2.2727, -2.2156, -2.4413, -2.4073, -2.0171, -2.1137, -2.0052, -2.6773,\n",
              "         -2.8270, -2.3606],\n",
              "        [-2.1075, -2.1361, -3.0164, -2.5032, -1.9802, -1.8251, -2.1898, -2.8735,\n",
              "         -2.4047, -2.6371],\n",
              "        [-2.0494, -2.2584, -1.9471, -2.6472, -2.5843, -2.3357, -2.5700, -2.4097,\n",
              "         -2.2315, -2.2331],\n",
              "        [-2.1338, -2.2988, -2.5258, -2.1971, -2.4931, -1.6808, -2.5890, -2.5281,\n",
              "         -2.1980, -2.8949],\n",
              "        [-2.4160, -1.9962, -2.4398, -2.2822, -2.2340, -2.0565, -2.3508, -2.9338,\n",
              "         -2.1167, -2.5045],\n",
              "        [-1.9991, -2.0544, -2.4323, -2.6374, -2.3711, -2.0182, -2.4085, -2.7902,\n",
              "         -1.9950, -2.7592],\n",
              "        [-2.6678, -2.0421, -2.2831, -2.6894, -2.2291, -2.3110, -2.1500, -2.4501,\n",
              "         -2.4545, -1.9989],\n",
              "        [-2.3969, -1.7891, -2.5700, -2.0041, -2.0634, -2.2922, -2.3311, -2.8094,\n",
              "         -2.6563, -2.5921],\n",
              "        [-2.5394, -2.2240, -2.3354, -2.5730, -2.2773, -2.0092, -2.3191, -2.5304,\n",
              "         -2.4069, -2.0018],\n",
              "        [-2.5405, -2.1153, -2.0788, -2.3469, -2.4502, -2.0123, -2.4696, -2.3411,\n",
              "         -2.7105, -2.1844],\n",
              "        [-2.5344, -1.8876, -2.5273, -2.9121, -2.0723, -2.0852, -1.8413, -2.6083,\n",
              "         -2.9672, -2.2915],\n",
              "        [-2.3509, -2.2045, -2.1253, -2.4778, -2.4743, -1.9135, -2.5465, -2.3135,\n",
              "         -2.2577, -2.5583],\n",
              "        [-2.1459, -2.2663, -2.4629, -2.3856, -2.5896, -2.1262, -2.1212, -2.3971,\n",
              "         -2.2621, -2.3774],\n",
              "        [-2.3070, -2.0067, -2.7351, -2.6942, -2.2143, -1.8936, -2.1480, -2.4810,\n",
              "         -2.5928, -2.3167],\n",
              "        [-2.3468, -2.2975, -2.5048, -2.3812, -2.0896, -2.1622, -2.2643, -2.4402,\n",
              "         -2.4868, -2.1486],\n",
              "        [-1.9733, -2.3949, -2.2442, -2.2784, -2.1551, -1.9607, -2.3696, -2.7842,\n",
              "         -2.3514, -2.9160],\n",
              "        [-2.0813, -2.1093, -2.3326, -2.5921, -2.4182, -1.9621, -2.2919, -2.6839,\n",
              "         -2.3210, -2.4672],\n",
              "        [-1.9620, -1.8824, -2.8020, -2.3108, -2.3207, -1.9172, -2.7350, -2.9005,\n",
              "         -2.2535, -2.5616],\n",
              "        [-2.1395, -2.3830, -2.5135, -2.3866, -2.2748, -2.3823, -2.1271, -2.1450,\n",
              "         -2.4166, -2.3386],\n",
              "        [-2.3821, -2.1097, -2.2853, -2.2814, -2.1655, -2.0879, -2.5769, -2.4650,\n",
              "         -2.5090, -2.2881],\n",
              "        [-2.2395, -2.5121, -2.2356, -2.2651, -2.2934, -2.0115, -2.6276, -2.2551,\n",
              "         -2.2131, -2.5201],\n",
              "        [-1.9479, -2.0955, -2.8690, -2.5934, -2.1350, -1.8660, -2.2780, -3.0874,\n",
              "         -2.3046, -2.5010],\n",
              "        [-2.3645, -2.1124, -2.3457, -2.4310, -2.0793, -1.9370, -2.4986, -2.4164,\n",
              "         -2.6294, -2.4236],\n",
              "        [-2.1917, -2.2616, -2.4479, -2.2307, -2.4716, -1.7370, -2.5615, -2.6170,\n",
              "         -2.1410, -2.7820],\n",
              "        [-2.1754, -1.9487, -2.3604, -2.7541, -2.2379, -2.2773, -1.9952, -2.6613,\n",
              "         -2.5355, -2.3901],\n",
              "        [-2.2681, -1.9208, -2.5891, -2.4538, -2.5362, -1.9922, -2.2018, -2.9526,\n",
              "         -1.9796, -2.6248],\n",
              "        [-2.3587, -2.1919, -2.1429, -2.5723, -2.1674, -2.1266, -1.9235, -2.6074,\n",
              "         -2.4651, -2.7879],\n",
              "        [-2.2608, -1.8788, -2.5548, -2.1600, -2.3808, -2.0469, -2.0882, -2.7442,\n",
              "         -2.6212, -2.6972],\n",
              "        [-2.3640, -2.3682, -2.3299, -1.9758, -2.5365, -1.8764, -2.3430, -2.7348,\n",
              "         -2.4052, -2.3765],\n",
              "        [-2.4129, -2.1777, -2.0517, -2.4033, -2.4021, -2.1127, -2.4887, -2.5857,\n",
              "         -2.1358, -2.4051],\n",
              "        [-2.3227, -1.9977, -2.2181, -2.5747, -2.3370, -2.2070, -2.2855, -2.4600,\n",
              "         -2.4459, -2.2935],\n",
              "        [-2.4439, -2.2933, -2.7783, -2.3393, -2.2255, -1.5049, -2.4767, -2.9924,\n",
              "         -2.2034, -2.5377],\n",
              "        [-2.2918, -1.9717, -2.7962, -2.7141, -2.2035, -2.5196, -2.0910, -2.1301,\n",
              "         -2.4078, -2.2155],\n",
              "        [-2.1509, -2.2102, -2.2064, -2.2234, -2.2724, -1.9842, -2.6869, -2.6838,\n",
              "         -2.3380, -2.4994],\n",
              "        [-2.0171, -2.3130, -2.7144, -2.7437, -2.0349, -1.7069, -2.2116, -2.8981,\n",
              "         -2.6298, -2.4242],\n",
              "        [-2.1458, -2.0559, -2.3688, -2.2007, -2.3874, -2.0048, -2.3167, -2.6580,\n",
              "         -2.6263, -2.4871],\n",
              "        [-2.1249, -2.0736, -2.6625, -2.8022, -2.4620, -2.2647, -2.0959, -2.2680,\n",
              "         -2.6715, -1.9688],\n",
              "        [-2.0769, -2.3754, -2.7610, -2.7706, -2.0647, -1.5425, -2.3443, -2.7443,\n",
              "         -2.6494, -2.4739],\n",
              "        [-2.5859, -1.7040, -2.0848, -2.4555, -2.6039, -2.2640, -2.4450, -2.7100,\n",
              "         -2.2769, -2.3148],\n",
              "        [-2.2569, -1.8895, -2.8361, -2.9907, -2.1388, -2.4876, -1.9915, -2.3944,\n",
              "         -2.3347, -2.2090],\n",
              "        [-2.4645, -2.2778, -2.4171, -2.5563, -1.9392, -2.0583, -2.3231, -2.5115,\n",
              "         -2.5707, -2.1322],\n",
              "        [-2.1956, -1.6196, -2.7603, -2.6168, -2.3650, -2.2596, -2.4374, -2.7592,\n",
              "         -2.1340, -2.4419],\n",
              "        [-2.2860, -2.0294, -2.3051, -2.6962, -2.0861, -2.3121, -2.2504, -2.5095,\n",
              "         -2.2475, -2.4751],\n",
              "        [-2.1688, -2.0405, -2.3418, -2.5423, -2.0493, -2.0689, -2.2914, -2.5662,\n",
              "         -2.6892, -2.5277],\n",
              "        [-2.4376, -1.9619, -2.4163, -2.3061, -2.7222, -2.4484, -2.0909, -2.3541,\n",
              "         -2.0663, -2.4561],\n",
              "        [-2.2329, -1.8692, -2.4861, -2.6832, -2.1417, -2.1596, -2.3363, -2.6278,\n",
              "         -2.2646, -2.5092],\n",
              "        [-2.1892, -1.7143, -2.8859, -2.7063, -2.6475, -2.1868, -2.2526, -2.4634,\n",
              "         -1.9176, -2.7339],\n",
              "        [-2.2038, -2.2795, -2.4115, -2.0089, -2.0971, -1.8284, -2.5725, -2.7278,\n",
              "         -2.6936, -2.6501],\n",
              "        [-2.2967, -2.1914, -2.4883, -2.5588, -2.3056, -2.5093, -2.1680, -2.3913,\n",
              "         -2.3451, -1.9350],\n",
              "        [-2.5505, -1.8886, -2.3800, -2.4196, -2.0151, -2.2912, -2.1167, -2.6433,\n",
              "         -2.7094, -2.3374],\n",
              "        [-2.2609, -2.0891, -2.6565, -2.5658, -2.2464, -2.2458, -2.0296, -2.3071,\n",
              "         -2.7427, -2.1376],\n",
              "        [-1.9926, -2.0638, -3.2370, -2.6068, -2.3687, -2.2764, -1.8632, -3.0121,\n",
              "         -1.8780, -2.6575],\n",
              "        [-2.3545, -2.1091, -2.1555, -2.7741, -2.1466, -2.0933, -2.4276, -2.4962,\n",
              "         -2.2929, -2.3680],\n",
              "        [-2.4745, -2.3334, -2.2910, -2.0979, -2.2546, -1.9712, -2.2564, -2.5346,\n",
              "         -2.6649, -2.3318],\n",
              "        [-2.3189, -1.9933, -2.5852, -2.5152, -1.8595, -2.1215, -2.2789, -2.4544,\n",
              "         -2.7039, -2.5474],\n",
              "        [-2.1142, -1.7840, -2.3524, -2.8535, -2.2383, -1.8349, -2.4335, -3.0572,\n",
              "         -2.3101, -2.8431],\n",
              "        [-1.9421, -2.2288, -2.6448, -2.6142, -2.6443, -2.1482, -2.1636, -2.8259,\n",
              "         -1.7732, -2.6175],\n",
              "        [-2.1074, -2.1385, -2.2684, -2.5407, -2.0153, -1.9756, -2.4441, -2.5511,\n",
              "         -2.7872, -2.5261],\n",
              "        [-2.2782, -2.1706, -2.1622, -2.1443, -2.6037, -2.0892, -2.0358, -2.4507,\n",
              "         -2.7773, -2.5983],\n",
              "        [-2.0933, -2.3499, -2.5047, -2.2728, -2.4187, -1.6905, -2.5557, -2.6323,\n",
              "         -2.2091, -2.7519],\n",
              "        [-2.8185, -2.2998, -2.3885, -1.9440, -2.5199, -1.9897, -2.8949, -2.7211,\n",
              "         -1.6164, -2.6855],\n",
              "        [-2.1673, -2.2649, -2.3176, -2.2147, -2.4140, -1.9367, -2.5552, -2.4520,\n",
              "         -2.4860, -2.3720],\n",
              "        [-2.0493, -2.1956, -2.7450, -2.6465, -2.1750, -2.3350, -2.0764, -2.4199,\n",
              "         -2.6387, -2.0514],\n",
              "        [-2.5461, -2.0891, -3.0357, -2.3505, -2.2617, -2.1822, -2.1068, -2.9872,\n",
              "         -1.7791, -2.3368]], grad_fn=<SubBackward0>)"
            ]
          },
          "metadata": {},
          "execution_count": 22
        }
      ]
    },
    {
      "cell_type": "code",
      "source": [
        "range(yb.shape[0])"
      ],
      "metadata": {
        "id": "T3PEnaBW2UOd",
        "outputId": "8b4e61d5-84dd-4438-8ddf-ee197e8d006d",
        "colab": {
          "base_uri": "https://localhost:8080/"
        }
      },
      "execution_count": 19,
      "outputs": [
        {
          "output_type": "execute_result",
          "data": {
            "text/plain": [
              "range(0, 64)"
            ]
          },
          "metadata": {},
          "execution_count": 19
        }
      ]
    },
    {
      "cell_type": "code",
      "source": [],
      "metadata": {
        "id": "pSAirfwB28g5",
        "outputId": "efd0d370-97b6-4b4c-81e8-c59cd8b6a0cc",
        "colab": {
          "base_uri": "https://localhost:8080/"
        }
      },
      "execution_count": 23,
      "outputs": [
        {
          "output_type": "execute_result",
          "data": {
            "text/plain": [
              "range(0, 64)"
            ]
          },
          "metadata": {},
          "execution_count": 23
        }
      ]
    },
    {
      "cell_type": "code",
      "source": [
        "preds[range(yb.shape[0]), yb]"
      ],
      "metadata": {
        "id": "vwWu8lhf2Xlb",
        "outputId": "04f8631d-cad9-4bbd-8e6d-9623d21a9922",
        "colab": {
          "base_uri": "https://localhost:8080/"
        }
      },
      "execution_count": 20,
      "outputs": [
        {
          "output_type": "execute_result",
          "data": {
            "text/plain": [
              "tensor([-2.1137, -2.1075, -2.5843, -2.2988, -2.5045, -2.4323, -2.0421, -2.0041,\n",
              "        -2.2240, -2.4502, -2.9121, -1.9135, -2.3856, -2.1480, -2.2975, -2.7842,\n",
              "        -2.3326, -2.2535, -2.1271, -2.2881, -2.2934, -1.9479, -2.4236, -2.2616,\n",
              "        -1.9487, -2.5891, -2.1674, -2.1600, -2.3299, -2.5857, -2.5747, -2.2034,\n",
              "        -2.0910, -2.4994, -2.0171, -2.0048, -2.0959, -2.0769, -2.7100, -1.9915,\n",
              "        -2.2778, -2.1340, -2.5095, -2.5277, -2.3061, -2.5092, -1.9176, -1.8284,\n",
              "        -1.9350, -2.4196, -2.5658, -1.9926, -2.4962, -2.2546, -2.5474, -2.3101,\n",
              "        -1.9421, -2.5261, -2.6037, -2.3499, -2.5199, -2.4140, -2.0764, -2.5461],\n",
              "       grad_fn=<IndexBackward0>)"
            ]
          },
          "metadata": {},
          "execution_count": 20
        }
      ]
    },
    {
      "cell_type": "code",
      "source": [
        "preds[range(yb.shape[0]), yb].shape"
      ],
      "metadata": {
        "id": "SOLE-yRn3Qxz",
        "outputId": "492731a8-afc0-4365-d672-e4fb8abbb816",
        "colab": {
          "base_uri": "https://localhost:8080/"
        }
      },
      "execution_count": 24,
      "outputs": [
        {
          "output_type": "execute_result",
          "data": {
            "text/plain": [
              "torch.Size([64])"
            ]
          },
          "metadata": {},
          "execution_count": 24
        }
      ]
    },
    {
      "cell_type": "markdown",
      "source": [
        "input (which is preds) is of shape (64,10),\n",
        "\n",
        "target (which is y_train) is of shape 64, consist of integers 0-9.\n",
        "in this line:\n",
        "\n",
        "input[range(target.shape[0]), target]\n",
        "\n",
        "we form a 64 shape tensor, where for each row in input,\n",
        "\n",
        "we take only the value in the column that is indicated in target.\n",
        "\n",
        "meaning, if target start with [5, 0, 4, 1 ...]\n",
        "\n",
        "for the first element, we take the 5th element in the 0th row of input,\n",
        "\n",
        "for the second element, we take the 0th element in the 1st row of input,  \n",
        "\n",
        "for the third element, we take the 4th element in the 2th row of input,  \n",
        "\n",
        "for the forth element, we take the 1st element in the 3th row of input,  \n",
        "\n",
        "etc."
      ],
      "metadata": {
        "id": "-2_jeNM-334i"
      }
    },
    {
      "cell_type": "code",
      "execution_count": 25,
      "metadata": {
        "id": "Gw6zcdGl3jSG"
      },
      "outputs": [],
      "source": [
        "def nll(input, target): # preds, yb\n",
        "    return -input[range(target.shape[0]), target].mean()\n",
        "\n",
        "loss_func = nll"
      ]
    },
    {
      "cell_type": "markdown",
      "metadata": {
        "id": "6DNVc2JG3jSG"
      },
      "source": [
        "Let\\'s check our loss with our random model, so we can see if we improve\n",
        "after a backprop pass later.\n"
      ]
    },
    {
      "cell_type": "code",
      "execution_count": 26,
      "metadata": {
        "id": "ZWH7AcPH3jSG",
        "outputId": "ab152c98-5b2f-4556-ad69-f222b306c0e6",
        "colab": {
          "base_uri": "https://localhost:8080/"
        }
      },
      "outputs": [
        {
          "output_type": "stream",
          "name": "stdout",
          "text": [
            "tensor(2.2920, grad_fn=<NegBackward0>)\n"
          ]
        }
      ],
      "source": [
        "yb = y_train[0:bs]\n",
        "print(loss_func(preds, yb))"
      ]
    },
    {
      "cell_type": "markdown",
      "metadata": {
        "id": "MAoCwcrZ3jSG"
      },
      "source": [
        "Let\\'s also implement a function to calculate the accuracy of our model.\n",
        "For each prediction, if the index with the largest value matches the\n",
        "target value, then the prediction was correct.\n"
      ]
    },
    {
      "cell_type": "code",
      "execution_count": 27,
      "metadata": {
        "id": "obJvHwXH3jSG"
      },
      "outputs": [],
      "source": [
        "def accuracy(out, yb):\n",
        "    preds = torch.argmax(out, dim=1)\n",
        "    return (preds == yb).float().mean()"
      ]
    },
    {
      "cell_type": "markdown",
      "metadata": {
        "id": "64BvktPj3jSH"
      },
      "source": [
        "Let\\'s check the accuracy of our random model, so we can see if our\n",
        "accuracy improves as our loss improves.\n"
      ]
    },
    {
      "cell_type": "code",
      "execution_count": 28,
      "metadata": {
        "id": "wIaPZoTk3jSH",
        "outputId": "86cb2906-ecf0-48ba-f7cb-2af833ddc9a7",
        "colab": {
          "base_uri": "https://localhost:8080/"
        }
      },
      "outputs": [
        {
          "output_type": "stream",
          "name": "stdout",
          "text": [
            "tensor(0.0938)\n"
          ]
        }
      ],
      "source": [
        "print(accuracy(preds, yb))"
      ]
    },
    {
      "cell_type": "markdown",
      "metadata": {
        "id": "oojIlq3T3jSH"
      },
      "source": [
        "We can now run a training loop. For each iteration, we will:\n",
        "\n",
        "-   select a mini-batch of data (of size `bs`)\n",
        "-   use the model to make predictions\n",
        "-   calculate the loss\n",
        "-   `loss.backward()` updates the gradients of the model, in this case,\n",
        "    `weights` and `bias`.\n",
        "\n",
        "We now use these gradients to update the weights and bias. We do this\n",
        "within the `torch.no_grad()` context manager, because we do not want\n",
        "these actions to be recorded for our next calculation of the gradient.\n",
        "You can read more about how PyTorch\\'s Autograd records operations\n",
        "[here](https://pytorch.org/docs/stable/notes/autograd.html).\n",
        "\n",
        "We then set the gradients to zero, so that we are ready for the next\n",
        "loop. Otherwise, our gradients would record a running tally of all the\n",
        "operations that had happened (i.e. `loss.backward()` *adds* the\n",
        "gradients to whatever is already stored, rather than replacing them).\n",
        "\n",
        "<div style=\"background-color: #6bcebb; color: #fff; font-weight: 700; padding-left: 10px; padding-top: 5px; padding-bottom: 5px\"><strong>TIP:</strong></div>\n",
        "<div style=\"background-color: #f3f4f7; padding-left: 10px; padding-top: 10px; padding-bottom: 10px; padding-right: 10px\">\n",
        "<p>You can use the standard python debugger to step through PyTorchcode, allowing you to check the various variable values at each step.Uncomment <code>set_trace()</code> below to try it out.</p>\n",
        "</div>\n"
      ]
    },
    {
      "cell_type": "code",
      "source": [],
      "metadata": {
        "id": "PjpZBa7t64JT"
      },
      "execution_count": null,
      "outputs": []
    },
    {
      "cell_type": "code",
      "execution_count": 50,
      "metadata": {
        "id": "piXjDsCM3jSH",
        "outputId": "7c48b9f7-0ddb-4f32-e838-008ea241e991",
        "colab": {
          "base_uri": "https://localhost:8080/",
          "height": 220
        }
      },
      "outputs": [
        {
          "output_type": "error",
          "ename": "TypeError",
          "evalue": "unsupported operand type(s) for *: 'NoneType' and 'float'",
          "traceback": [
            "\u001b[0;31m---------------------------------------------------------------------------\u001b[0m",
            "\u001b[0;31mTypeError\u001b[0m                                 Traceback (most recent call last)",
            "\u001b[0;32m<ipython-input-50-00d13bf9dbec>\u001b[0m in \u001b[0;36m<cell line: 6>\u001b[0;34m()\u001b[0m\n\u001b[1;32m     17\u001b[0m         \u001b[0mloss\u001b[0m\u001b[0;34m.\u001b[0m\u001b[0mbackward\u001b[0m\u001b[0;34m(\u001b[0m\u001b[0;34m)\u001b[0m\u001b[0;34m\u001b[0m\u001b[0;34m\u001b[0m\u001b[0m\n\u001b[1;32m     18\u001b[0m         \u001b[0;32mwith\u001b[0m \u001b[0mtorch\u001b[0m\u001b[0;34m.\u001b[0m\u001b[0mno_grad\u001b[0m\u001b[0;34m(\u001b[0m\u001b[0;34m)\u001b[0m\u001b[0;34m:\u001b[0m\u001b[0;34m\u001b[0m\u001b[0;34m\u001b[0m\u001b[0m\n\u001b[0;32m---> 19\u001b[0;31m             \u001b[0mweights\u001b[0m \u001b[0;34m-=\u001b[0m \u001b[0mweights\u001b[0m\u001b[0;34m.\u001b[0m\u001b[0mgrad\u001b[0m \u001b[0;34m*\u001b[0m \u001b[0mlr\u001b[0m\u001b[0;34m\u001b[0m\u001b[0;34m\u001b[0m\u001b[0m\n\u001b[0m\u001b[1;32m     20\u001b[0m             \u001b[0mbias\u001b[0m \u001b[0;34m-=\u001b[0m \u001b[0mbias\u001b[0m\u001b[0;34m.\u001b[0m\u001b[0mgrad\u001b[0m \u001b[0;34m*\u001b[0m \u001b[0mlr\u001b[0m\u001b[0;34m\u001b[0m\u001b[0;34m\u001b[0m\u001b[0m\n\u001b[1;32m     21\u001b[0m             \u001b[0mweights\u001b[0m\u001b[0;34m.\u001b[0m\u001b[0mgrad\u001b[0m\u001b[0;34m.\u001b[0m\u001b[0mzero_\u001b[0m\u001b[0;34m(\u001b[0m\u001b[0;34m)\u001b[0m\u001b[0;34m\u001b[0m\u001b[0;34m\u001b[0m\u001b[0m\n",
            "\u001b[0;31mTypeError\u001b[0m: unsupported operand type(s) for *: 'NoneType' and 'float'"
          ]
        }
      ],
      "source": [
        "from IPython.core.debugger import set_trace\n",
        "\n",
        "lr = 0.5  # learning rate\n",
        "epochs = 2  # how many epochs to train for\n",
        "\n",
        "for epoch in range(epochs):\n",
        "    for i in range((n - 1) // bs + 1):\n",
        "\n",
        "        #set_trace()\n",
        "        start_i = i * bs\n",
        "        end_i = start_i + bs\n",
        "        xb = x_train[start_i:end_i]\n",
        "        yb = y_train[start_i:end_i]\n",
        "        pred = model(xb)\n",
        "        loss = loss_func(pred, yb)\n",
        "\n",
        "        loss.backward()\n",
        "        with torch.no_grad():\n",
        "            weights -= weights.grad * lr\n",
        "            bias -= bias.grad * lr\n",
        "            weights.grad.zero_()\n",
        "            bias.grad.zero_()"
      ]
    },
    {
      "cell_type": "markdown",
      "metadata": {
        "id": "pGrZ1ai-3jSH"
      },
      "source": [
        "That\\'s it: we\\'ve created and trained a minimal neural network (in this\n",
        "case, a logistic regression, since we have no hidden layers) entirely\n",
        "from scratch!\n",
        "\n",
        "Let\\'s check the loss and accuracy and compare those to what we got\n",
        "earlier. We expect that the loss will have decreased and accuracy to\n",
        "have increased, and they have.\n"
      ]
    },
    {
      "cell_type": "code",
      "execution_count": null,
      "metadata": {
        "id": "Lp1Q-Kdk3jSH"
      },
      "outputs": [],
      "source": [
        "print(loss_func(model(xb), yb), accuracy(model(xb), yb))"
      ]
    },
    {
      "cell_type": "markdown",
      "metadata": {
        "id": "3essRD243jSI"
      },
      "source": [
        "Using `torch.nn.functional`\n",
        "===========================\n",
        "\n",
        "We will now refactor our code, so that it does the same thing as before,\n",
        "only we\\'ll start taking advantage of PyTorch\\'s `nn` classes to make it\n",
        "more concise and flexible. At each step from here, we should be making\n",
        "our code one or more of: shorter, more understandable, and/or more\n",
        "flexible.\n",
        "\n",
        "The first and easiest step is to make our code shorter by replacing our\n",
        "hand-written activation and loss functions with those from\n",
        "`torch.nn.functional` (which is generally imported into the namespace\n",
        "`F` by convention). This module contains all the functions in the\n",
        "`torch.nn` library (whereas other parts of the library contain classes).\n",
        "As well as a wide range of loss and activation functions, you\\'ll also\n",
        "find here some convenient functions for creating neural nets, such as\n",
        "pooling functions. (There are also functions for doing convolutions,\n",
        "linear layers, etc, but as we\\'ll see, these are usually better handled\n",
        "using other parts of the library.)\n",
        "\n",
        "If you\\'re using negative log likelihood loss and log softmax\n",
        "activation, then Pytorch provides a single function `F.cross_entropy`\n",
        "that combines the two. So we can even remove the activation function\n",
        "from our model.\n"
      ]
    },
    {
      "cell_type": "code",
      "execution_count": 51,
      "metadata": {
        "id": "UyXhQwDG3jSI"
      },
      "outputs": [],
      "source": [
        "import torch.nn.functional as F\n",
        "\n",
        "loss_func = F.cross_entropy\n",
        "\n",
        "def model(xb):\n",
        "    return xb @ weights + bias"
      ]
    },
    {
      "cell_type": "markdown",
      "metadata": {
        "id": "IExw5fng3jSI"
      },
      "source": [
        "Note that we no longer call `log_softmax` in the `model` function.\n",
        "Let\\'s confirm that our loss and accuracy are the same as before:\n"
      ]
    },
    {
      "cell_type": "code",
      "execution_count": 52,
      "metadata": {
        "id": "SAinArMc3jSJ",
        "outputId": "8b8ba0f5-5175-4de6-d018-4dae2d0dd768",
        "colab": {
          "base_uri": "https://localhost:8080/"
        }
      },
      "outputs": [
        {
          "output_type": "stream",
          "name": "stdout",
          "text": [
            "tensor(2.3317, grad_fn=<NllLossBackward0>) tensor(0.1094)\n"
          ]
        }
      ],
      "source": [
        "print(loss_func(model(xb), yb), accuracy(model(xb), yb))"
      ]
    },
    {
      "cell_type": "markdown",
      "metadata": {
        "id": "jdV_VApA3jSJ"
      },
      "source": [
        "Refactor using `nn.Module`\n",
        "==========================\n",
        "\n",
        "Next up, we\\'ll use `nn.Module` and `nn.Parameter`, for a clearer and\n",
        "more concise training loop. We subclass `nn.Module` (which itself is a\n",
        "class and able to keep track of state). In this case, we want to create\n",
        "a class that holds our weights, bias, and method for the forward step.\n",
        "`nn.Module` has a number of attributes and methods (such as\n",
        "`.parameters()` and `.zero_grad()`) which we will be using.\n",
        "\n",
        "<div style=\"background-color: #54c7ec; color: #fff; font-weight: 700; padding-left: 10px; padding-top: 5px; padding-bottom: 5px\"><strong>NOTE:</strong></div>\n",
        "<div style=\"background-color: #f3f4f7; padding-left: 10px; padding-top: 10px; padding-bottom: 10px; padding-right: 10px\">\n",
        "<p><code>nn.Module</code> (uppercase M) is a PyTorch specific concept, and is aclass we'll be using a lot. <code>nn.Module</code> is not to be confused with the Pythonconcept of a (lowercase <code>m</code>) <a href=\"https://docs.python.org/3/tutorial/modules.html\">module</a>,which is a file of Python code that can be imported.</p>\n",
        "</div>\n"
      ]
    },
    {
      "cell_type": "code",
      "execution_count": 53,
      "metadata": {
        "id": "lhhAqH2e3jSJ"
      },
      "outputs": [],
      "source": [
        "from torch import nn\n",
        "\n",
        "class Mnist_Logistic(nn.Module):\n",
        "    def __init__(self):\n",
        "        super().__init__()\n",
        "        self.weights = nn.Parameter(torch.randn(784, 10) / math.sqrt(784))\n",
        "        self.bias = nn.Parameter(torch.zeros(10))\n",
        "\n",
        "    def forward(self, xb):\n",
        "        return xb @ self.weights + self.bias"
      ]
    },
    {
      "cell_type": "markdown",
      "metadata": {
        "id": "HfwJXBcB3jSK"
      },
      "source": [
        "Since we\\'re now using an object instead of just using a function, we\n",
        "first have to instantiate our model:\n"
      ]
    },
    {
      "cell_type": "code",
      "execution_count": 54,
      "metadata": {
        "id": "JYzsBcZO3jSK"
      },
      "outputs": [],
      "source": [
        "model = Mnist_Logistic()"
      ]
    },
    {
      "cell_type": "markdown",
      "metadata": {
        "id": "fgbPD6Cp3jSK"
      },
      "source": [
        "Now we can calculate the loss in the same way as before. Note that\n",
        "`nn.Module` objects are used as if they are functions (i.e they are\n",
        "*callable*), but behind the scenes Pytorch will call our `forward`\n",
        "method automatically.\n"
      ]
    },
    {
      "cell_type": "code",
      "execution_count": 55,
      "metadata": {
        "id": "9WCuVFVV3jSK",
        "outputId": "e837d8fa-430a-4893-8829-b9c41581fa4e",
        "colab": {
          "base_uri": "https://localhost:8080/"
        }
      },
      "outputs": [
        {
          "output_type": "stream",
          "name": "stdout",
          "text": [
            "tensor(2.3704, grad_fn=<NllLossBackward0>)\n"
          ]
        }
      ],
      "source": [
        "print(loss_func(model(xb), yb))"
      ]
    },
    {
      "cell_type": "markdown",
      "metadata": {
        "id": "fN1b4e5S3jSK"
      },
      "source": [
        "Previously for our training loop we had to update the values for each\n",
        "parameter by name, and manually zero out the grads for each parameter\n",
        "separately, like this:\n",
        "\n",
        "``` {.sourceCode .python}\n",
        "with torch.no_grad():\n",
        "    weights -= weights.grad * lr\n",
        "    bias -= bias.grad * lr\n",
        "    weights.grad.zero_()\n",
        "    bias.grad.zero_()\n",
        "```\n",
        "\n",
        "Now we can take advantage of model.parameters() and model.zero\\_grad()\n",
        "(which are both defined by PyTorch for `nn.Module`) to make those steps\n",
        "more concise and less prone to the error of forgetting some of our\n",
        "parameters, particularly if we had a more complicated model:\n",
        "\n",
        "``` {.sourceCode .python}\n",
        "with torch.no_grad():\n",
        "    for p in model.parameters(): p -= p.grad * lr\n",
        "    model.zero_grad()\n",
        "```\n",
        "\n",
        "We\\'ll wrap our little training loop in a `fit` function so we can run\n",
        "it again later.\n"
      ]
    },
    {
      "cell_type": "code",
      "execution_count": 56,
      "metadata": {
        "id": "5R4KIEZV3jSQ"
      },
      "outputs": [],
      "source": [
        "def fit():\n",
        "    for epoch in range(epochs):\n",
        "        for i in range((n - 1) // bs + 1):\n",
        "            start_i = i * bs\n",
        "            end_i = start_i + bs\n",
        "            xb = x_train[start_i:end_i]\n",
        "            yb = y_train[start_i:end_i]\n",
        "            pred = model(xb)\n",
        "            loss = loss_func(pred, yb)\n",
        "\n",
        "            loss.backward()\n",
        "            with torch.no_grad():\n",
        "                for p in model.parameters():\n",
        "                    p -= p.grad * lr\n",
        "                model.zero_grad()\n",
        "\n",
        "fit()"
      ]
    },
    {
      "cell_type": "markdown",
      "metadata": {
        "id": "3HGjyKwB3jSR"
      },
      "source": [
        "Let\\'s double-check that our loss has gone down:\n"
      ]
    },
    {
      "cell_type": "code",
      "execution_count": 57,
      "metadata": {
        "id": "wq0_dBkA3jSR",
        "outputId": "a2bef9a8-cee2-4fb9-cce9-9e71ead98e72",
        "colab": {
          "base_uri": "https://localhost:8080/"
        }
      },
      "outputs": [
        {
          "output_type": "stream",
          "name": "stdout",
          "text": [
            "tensor(0.2248, grad_fn=<NllLossBackward0>)\n"
          ]
        }
      ],
      "source": [
        "print(loss_func(model(xb), yb))"
      ]
    },
    {
      "cell_type": "markdown",
      "metadata": {
        "id": "52wdXkeQ3jSR"
      },
      "source": [
        "Refactor using `nn.Linear`\n",
        "==========================\n",
        "\n",
        "We continue to refactor our code. Instead of manually defining and\n",
        "initializing `self.weights` and `self.bias`, and calculating\n",
        "`xb  @ self.weights + self.bias`, we will instead use the Pytorch class\n",
        "[nn.Linear](https://pytorch.org/docs/stable/nn.html#linear-layers) for a\n",
        "linear layer, which does all that for us. Pytorch has many types of\n",
        "predefined layers that can greatly simplify our code, and often makes it\n",
        "faster too.\n"
      ]
    },
    {
      "cell_type": "code",
      "execution_count": 58,
      "metadata": {
        "id": "py35AvLd3jSR"
      },
      "outputs": [],
      "source": [
        "class Mnist_Logistic(nn.Module):\n",
        "    def __init__(self):\n",
        "        super().__init__()\n",
        "        self.lin = nn.Linear(784, 10)\n",
        "\n",
        "    def forward(self, xb):\n",
        "        return self.lin(xb)"
      ]
    },
    {
      "cell_type": "markdown",
      "metadata": {
        "id": "keVDpwmo3jSR"
      },
      "source": [
        "We instantiate our model and calculate the loss in the same way as\n",
        "before:\n"
      ]
    },
    {
      "cell_type": "code",
      "execution_count": 59,
      "metadata": {
        "id": "7Om8DeH-3jSS",
        "outputId": "00ebbeb7-cd15-4f68-a6dd-e571fab9a238",
        "colab": {
          "base_uri": "https://localhost:8080/"
        }
      },
      "outputs": [
        {
          "output_type": "stream",
          "name": "stdout",
          "text": [
            "tensor(2.3269, grad_fn=<NllLossBackward0>)\n"
          ]
        }
      ],
      "source": [
        "model = Mnist_Logistic()\n",
        "print(loss_func(model(xb), yb))"
      ]
    },
    {
      "cell_type": "markdown",
      "metadata": {
        "id": "dNBPlyI03jSS"
      },
      "source": [
        "We are still able to use our same `fit` method as before.\n"
      ]
    },
    {
      "cell_type": "code",
      "execution_count": 60,
      "metadata": {
        "id": "JvuVKjAW3jSS",
        "outputId": "569f2345-8f54-4db3-aeec-c0d823e4c288",
        "colab": {
          "base_uri": "https://localhost:8080/"
        }
      },
      "outputs": [
        {
          "output_type": "stream",
          "name": "stdout",
          "text": [
            "tensor(0.2306, grad_fn=<NllLossBackward0>)\n"
          ]
        }
      ],
      "source": [
        "fit()\n",
        "\n",
        "print(loss_func(model(xb), yb))"
      ]
    },
    {
      "cell_type": "markdown",
      "metadata": {
        "id": "eSvJEqys3jSS"
      },
      "source": [
        "Refactor using `torch.optim`\n",
        "============================\n",
        "\n",
        "Pytorch also has a package with various optimization algorithms,\n",
        "`torch.optim`. We can use the `step` method from our optimizer to take a\n",
        "forward step, instead of manually updating each parameter.\n",
        "\n",
        "This will let us replace our previous manually coded optimization step:\n",
        "\n",
        "``` {.sourceCode .python}\n",
        "with torch.no_grad():\n",
        "    for p in model.parameters(): p -= p.grad * lr\n",
        "    model.zero_grad()\n",
        "```\n",
        "\n",
        "and instead use just:\n",
        "\n",
        "``` {.sourceCode .python}\n",
        "opt.step()\n",
        "opt.zero_grad()\n",
        "```\n",
        "\n",
        "(`optim.zero_grad()` resets the gradient to 0 and we need to call it\n",
        "before computing the gradient for the next minibatch.)\n"
      ]
    },
    {
      "cell_type": "code",
      "execution_count": 61,
      "metadata": {
        "id": "dpHVx9Vd3jSS"
      },
      "outputs": [],
      "source": [
        "from torch import optim"
      ]
    },
    {
      "cell_type": "markdown",
      "metadata": {
        "id": "MWGnqelt3jST"
      },
      "source": [
        "We\\'ll define a little function to create our model and optimizer so we\n",
        "can reuse it in the future.\n"
      ]
    },
    {
      "cell_type": "code",
      "execution_count": 62,
      "metadata": {
        "id": "Dhe3Axcg3jST",
        "outputId": "6a8f365d-8f0d-4f3a-e657-13913a86e1cc",
        "colab": {
          "base_uri": "https://localhost:8080/"
        }
      },
      "outputs": [
        {
          "output_type": "stream",
          "name": "stdout",
          "text": [
            "tensor(2.3328, grad_fn=<NllLossBackward0>)\n",
            "tensor(0.0801, grad_fn=<NllLossBackward0>)\n"
          ]
        }
      ],
      "source": [
        "def get_model():\n",
        "    model = Mnist_Logistic()\n",
        "    return model, optim.SGD(model.parameters(), lr=lr)\n",
        "\n",
        "model, opt = get_model()\n",
        "print(loss_func(model(xb), yb))\n",
        "\n",
        "for epoch in range(epochs):\n",
        "    for i in range((n - 1) // bs + 1):\n",
        "        start_i = i * bs\n",
        "        end_i = start_i + bs\n",
        "        xb = x_train[start_i:end_i]\n",
        "        yb = y_train[start_i:end_i]\n",
        "        pred = model(xb)\n",
        "        loss = loss_func(pred, yb)\n",
        "\n",
        "        loss.backward()\n",
        "        opt.step()\n",
        "        opt.zero_grad()\n",
        "\n",
        "print(loss_func(model(xb), yb))"
      ]
    },
    {
      "cell_type": "markdown",
      "metadata": {
        "id": "lHGV6ZvJ3jST"
      },
      "source": [
        "Refactor using Dataset\n",
        "======================\n",
        "\n",
        "PyTorch has an abstract Dataset class. A Dataset can be anything that\n",
        "has a `__len__` function (called by Python\\'s standard `len` function)\n",
        "and a `__getitem__` function as a way of indexing into it. [This\n",
        "tutorial](https://pytorch.org/tutorials/beginner/data_loading_tutorial.html)\n",
        "walks through a nice example of creating a custom\n",
        "`FacialLandmarkDataset` class as a subclass of `Dataset`.\n",
        "\n",
        "PyTorch\\'s\n",
        "[TensorDataset](https://pytorch.org/docs/stable/_modules/torch/utils/data/dataset.html#TensorDataset)\n",
        "is a Dataset wrapping tensors. By defining a length and way of indexing,\n",
        "this also gives us a way to iterate, index, and slice along the first\n",
        "dimension of a tensor. This will make it easier to access both the\n",
        "independent and dependent variables in the same line as we train.\n"
      ]
    },
    {
      "cell_type": "code",
      "execution_count": 63,
      "metadata": {
        "id": "Pn8cqkTE3jST"
      },
      "outputs": [],
      "source": [
        "from torch.utils.data import TensorDataset"
      ]
    },
    {
      "cell_type": "markdown",
      "metadata": {
        "id": "l3dCBdvJ3jSU"
      },
      "source": [
        "Both `x_train` and `y_train` can be combined in a single\n",
        "`TensorDataset`, which will be easier to iterate over and slice.\n"
      ]
    },
    {
      "cell_type": "code",
      "execution_count": 64,
      "metadata": {
        "id": "-1BB_-y_3jSU"
      },
      "outputs": [],
      "source": [
        "train_ds = TensorDataset(x_train, y_train)"
      ]
    },
    {
      "cell_type": "markdown",
      "metadata": {
        "id": "VOcMDRao3jSU"
      },
      "source": [
        "Previously, we had to iterate through minibatches of `x` and `y` values\n",
        "separately:\n",
        "\n",
        "``` {.sourceCode .python}\n",
        "xb = x_train[start_i:end_i]\n",
        "yb = y_train[start_i:end_i]\n",
        "```\n",
        "\n",
        "Now, we can do these two steps together:\n",
        "\n",
        "``` {.sourceCode .python}\n",
        "xb,yb = train_ds[i*bs : i*bs+bs]\n",
        "```\n"
      ]
    },
    {
      "cell_type": "code",
      "execution_count": 65,
      "metadata": {
        "id": "7x98V5iA3jSU",
        "outputId": "a7e996c6-1286-4804-b34d-571fbfa0c6cd",
        "colab": {
          "base_uri": "https://localhost:8080/"
        }
      },
      "outputs": [
        {
          "output_type": "stream",
          "name": "stdout",
          "text": [
            "tensor(0.0798, grad_fn=<NllLossBackward0>)\n"
          ]
        }
      ],
      "source": [
        "model, opt = get_model()\n",
        "\n",
        "for epoch in range(epochs):\n",
        "    for i in range((n - 1) // bs + 1):\n",
        "        xb, yb = train_ds[i * bs: i * bs + bs]\n",
        "        pred = model(xb)\n",
        "        loss = loss_func(pred, yb)\n",
        "\n",
        "        loss.backward()\n",
        "        opt.step()\n",
        "        opt.zero_grad()\n",
        "\n",
        "print(loss_func(model(xb), yb))"
      ]
    },
    {
      "cell_type": "markdown",
      "metadata": {
        "id": "-JmszJMF3jSV"
      },
      "source": [
        "Refactor using `DataLoader`\n",
        "===========================\n",
        "\n",
        "PyTorch\\'s `DataLoader` is responsible for managing batches. You can\n",
        "create a `DataLoader` from any `Dataset`. `DataLoader` makes it easier\n",
        "to iterate over batches. Rather than having to use\n",
        "`train_ds[i*bs : i*bs+bs]`, the `DataLoader` gives us each minibatch\n",
        "automatically.\n"
      ]
    },
    {
      "cell_type": "code",
      "execution_count": null,
      "metadata": {
        "id": "3rdnV6ZN3jSV"
      },
      "outputs": [],
      "source": [
        "from torch.utils.data import DataLoader\n",
        "\n",
        "train_ds = TensorDataset(x_train, y_train)\n",
        "train_dl = DataLoader(train_ds, batch_size=bs)"
      ]
    },
    {
      "cell_type": "markdown",
      "metadata": {
        "id": "1JAlzCpZ3jSV"
      },
      "source": [
        "Previously, our loop iterated over batches `(xb, yb)` like this:\n",
        "\n",
        "``` {.sourceCode .python}\n",
        "for i in range((n-1)//bs + 1):\n",
        "    xb,yb = train_ds[i*bs : i*bs+bs]\n",
        "    pred = model(xb)\n",
        "```\n",
        "\n",
        "Now, our loop is much cleaner, as `(xb, yb)` are loaded automatically\n",
        "from the data loader:\n",
        "\n",
        "``` {.sourceCode .python}\n",
        "for xb,yb in train_dl:\n",
        "    pred = model(xb)\n",
        "```\n"
      ]
    },
    {
      "cell_type": "code",
      "execution_count": null,
      "metadata": {
        "id": "sz0_lUVK3jSV"
      },
      "outputs": [],
      "source": [
        "model, opt = get_model()\n",
        "\n",
        "for epoch in range(epochs):\n",
        "    for xb, yb in train_dl:\n",
        "        pred = model(xb)\n",
        "        loss = loss_func(pred, yb)\n",
        "\n",
        "        loss.backward()\n",
        "        opt.step()\n",
        "        opt.zero_grad()\n",
        "\n",
        "print(loss_func(model(xb), yb))"
      ]
    },
    {
      "cell_type": "markdown",
      "metadata": {
        "id": "w6lWDI9b3jSW"
      },
      "source": [
        "Thanks to PyTorch\\'s `nn.Module`, `nn.Parameter`, `Dataset`, and\n",
        "`DataLoader`, our training loop is now dramatically smaller and easier\n",
        "to understand. Let\\'s now try to add the basic features necessary to\n",
        "create effective models in practice.\n",
        "\n",
        "Add validation\n",
        "==============\n",
        "\n",
        "In section 1, we were just trying to get a reasonable training loop set\n",
        "up for use on our training data. In reality, you **always** should also\n",
        "have a [validation\n",
        "set](https://www.fast.ai/2017/11/13/validation-sets/), in order to\n",
        "identify if you are overfitting.\n",
        "\n",
        "Shuffling the training data is\n",
        "[important](https://www.quora.com/Does-the-order-of-training-data-matter-when-training-neural-networks)\n",
        "to prevent correlation between batches and overfitting. On the other\n",
        "hand, the validation loss will be identical whether we shuffle the\n",
        "validation set or not. Since shuffling takes extra time, it makes no\n",
        "sense to shuffle the validation data.\n",
        "\n",
        "We\\'ll use a batch size for the validation set that is twice as large as\n",
        "that for the training set. This is because the validation set does not\n",
        "need backpropagation and thus takes less memory (it doesn\\'t need to\n",
        "store the gradients). We take advantage of this to use a larger batch\n",
        "size and compute the loss more quickly.\n"
      ]
    },
    {
      "cell_type": "code",
      "execution_count": null,
      "metadata": {
        "id": "GMgYt1iH3jSW"
      },
      "outputs": [],
      "source": [
        "train_ds = TensorDataset(x_train, y_train)\n",
        "train_dl = DataLoader(train_ds, batch_size=bs, shuffle=True)\n",
        "\n",
        "valid_ds = TensorDataset(x_valid, y_valid)\n",
        "valid_dl = DataLoader(valid_ds, batch_size=bs * 2)"
      ]
    },
    {
      "cell_type": "markdown",
      "metadata": {
        "id": "74twURLT3jSW"
      },
      "source": [
        "We will calculate and print the validation loss at the end of each\n",
        "epoch.\n",
        "\n",
        "(Note that we always call `model.train()` before training, and\n",
        "`model.eval()` before inference, because these are used by layers such\n",
        "as `nn.BatchNorm2d` and `nn.Dropout` to ensure appropriate behavior for\n",
        "these different phases.)\n"
      ]
    },
    {
      "cell_type": "code",
      "execution_count": null,
      "metadata": {
        "id": "Ytd14QEe3jSW"
      },
      "outputs": [],
      "source": [
        "model, opt = get_model()\n",
        "\n",
        "for epoch in range(epochs):\n",
        "    model.train()\n",
        "    for xb, yb in train_dl:\n",
        "        pred = model(xb)\n",
        "        loss = loss_func(pred, yb)\n",
        "\n",
        "        loss.backward()\n",
        "        opt.step()\n",
        "        opt.zero_grad()\n",
        "\n",
        "    model.eval()\n",
        "    with torch.no_grad():\n",
        "        valid_loss = sum(loss_func(model(xb), yb) for xb, yb in valid_dl)\n",
        "\n",
        "    print(epoch, valid_loss / len(valid_dl))"
      ]
    },
    {
      "cell_type": "markdown",
      "metadata": {
        "id": "3K5FOTyR3jSX"
      },
      "source": [
        "Create fit() and get\\_data()\n",
        "============================\n",
        "\n",
        "We\\'ll now do a little refactoring of our own. Since we go through a\n",
        "similar process twice of calculating the loss for both the training set\n",
        "and the validation set, let\\'s make that into its own function,\n",
        "`loss_batch`, which computes the loss for one batch.\n",
        "\n",
        "We pass an optimizer in for the training set, and use it to perform\n",
        "backprop. For the validation set, we don\\'t pass an optimizer, so the\n",
        "method doesn\\'t perform backprop.\n"
      ]
    },
    {
      "cell_type": "code",
      "execution_count": null,
      "metadata": {
        "id": "PdWkwS6c3jSX"
      },
      "outputs": [],
      "source": [
        "def loss_batch(model, loss_func, xb, yb, opt=None):\n",
        "    loss = loss_func(model(xb), yb)\n",
        "\n",
        "    if opt is not None:\n",
        "        loss.backward()\n",
        "        opt.step()\n",
        "        opt.zero_grad()\n",
        "\n",
        "    return loss.item(), len(xb)"
      ]
    },
    {
      "cell_type": "markdown",
      "metadata": {
        "id": "DZIE-ufu3jSX"
      },
      "source": [
        "`fit` runs the necessary operations to train our model and compute the\n",
        "training and validation losses for each epoch.\n"
      ]
    },
    {
      "cell_type": "code",
      "execution_count": null,
      "metadata": {
        "id": "6KVOmYNn3jSX"
      },
      "outputs": [],
      "source": [
        "import numpy as np\n",
        "\n",
        "def fit(epochs, model, loss_func, opt, train_dl, valid_dl):\n",
        "    for epoch in range(epochs):\n",
        "        model.train()\n",
        "        for xb, yb in train_dl:\n",
        "            loss_batch(model, loss_func, xb, yb, opt)\n",
        "\n",
        "        model.eval()\n",
        "        with torch.no_grad():\n",
        "            losses, nums = zip(\n",
        "                *[loss_batch(model, loss_func, xb, yb) for xb, yb in valid_dl]\n",
        "            )\n",
        "        val_loss = np.sum(np.multiply(losses, nums)) / np.sum(nums)\n",
        "\n",
        "        print(epoch, val_loss)"
      ]
    },
    {
      "cell_type": "markdown",
      "metadata": {
        "id": "M8H-Hivs3jSY"
      },
      "source": [
        "`get_data` returns dataloaders for the training and validation sets.\n"
      ]
    },
    {
      "cell_type": "code",
      "execution_count": null,
      "metadata": {
        "id": "419MJTmQ3jSY"
      },
      "outputs": [],
      "source": [
        "def get_data(train_ds, valid_ds, bs):\n",
        "    return (\n",
        "        DataLoader(train_ds, batch_size=bs, shuffle=True),\n",
        "        DataLoader(valid_ds, batch_size=bs * 2),\n",
        "    )"
      ]
    },
    {
      "cell_type": "markdown",
      "metadata": {
        "id": "5XXZ29t43jSY"
      },
      "source": [
        "Now, our whole process of obtaining the data loaders and fitting the\n",
        "model can be run in 3 lines of code:\n"
      ]
    },
    {
      "cell_type": "code",
      "execution_count": null,
      "metadata": {
        "id": "5xOUIUHi3jSY"
      },
      "outputs": [],
      "source": [
        "train_dl, valid_dl = get_data(train_ds, valid_ds, bs)\n",
        "model, opt = get_model()\n",
        "fit(epochs, model, loss_func, opt, train_dl, valid_dl)"
      ]
    },
    {
      "cell_type": "markdown",
      "metadata": {
        "id": "5hNN5XAp3jSZ"
      },
      "source": [
        "You can use these basic 3 lines of code to train a wide variety of\n",
        "models. Let\\'s see if we can use them to train a convolutional neural\n",
        "network (CNN)!\n",
        "\n",
        "Switch to CNN\n",
        "=============\n",
        "\n",
        "We are now going to build our neural network with three convolutional\n",
        "layers. Because none of the functions in the previous section assume\n",
        "anything about the model form, we\\'ll be able to use them to train a CNN\n",
        "without any modification.\n",
        "\n",
        "We will use PyTorch\\'s predefined\n",
        "[Conv2d](https://pytorch.org/docs/stable/nn.html#torch.nn.Conv2d) class\n",
        "as our convolutional layer. We define a CNN with 3 convolutional layers.\n",
        "Each convolution is followed by a ReLU. At the end, we perform an\n",
        "average pooling. (Note that `view` is PyTorch\\'s version of Numpy\\'s\n",
        "`reshape`)\n"
      ]
    },
    {
      "cell_type": "code",
      "execution_count": null,
      "metadata": {
        "id": "gMB4CPWd3jSZ"
      },
      "outputs": [],
      "source": [
        "class Mnist_CNN(nn.Module):\n",
        "    def __init__(self):\n",
        "        super().__init__()\n",
        "        self.conv1 = nn.Conv2d(1, 16, kernel_size=3, stride=2, padding=1)\n",
        "        self.conv2 = nn.Conv2d(16, 16, kernel_size=3, stride=2, padding=1)\n",
        "        self.conv3 = nn.Conv2d(16, 10, kernel_size=3, stride=2, padding=1)\n",
        "\n",
        "    def forward(self, xb):\n",
        "        xb = xb.view(-1, 1, 28, 28)\n",
        "        xb = F.relu(self.conv1(xb))\n",
        "        xb = F.relu(self.conv2(xb))\n",
        "        xb = F.relu(self.conv3(xb))\n",
        "        xb = F.avg_pool2d(xb, 4)\n",
        "        return xb.view(-1, xb.size(1))\n",
        "\n",
        "lr = 0.1"
      ]
    },
    {
      "cell_type": "markdown",
      "metadata": {
        "id": "M_35FKVT3jSZ"
      },
      "source": [
        "[Momentum](https://cs231n.github.io/neural-networks-3/#sgd) is a\n",
        "variation on stochastic gradient descent that takes previous updates\n",
        "into account as well and generally leads to faster training.\n"
      ]
    },
    {
      "cell_type": "code",
      "execution_count": null,
      "metadata": {
        "id": "oeO04Ip53jSZ"
      },
      "outputs": [],
      "source": [
        "model = Mnist_CNN()\n",
        "opt = optim.SGD(model.parameters(), lr=lr, momentum=0.9)\n",
        "\n",
        "fit(epochs, model, loss_func, opt, train_dl, valid_dl)"
      ]
    },
    {
      "cell_type": "markdown",
      "metadata": {
        "id": "l3X_kgio3jSa"
      },
      "source": [
        "Using `nn.Sequential`\n",
        "=====================\n",
        "\n",
        "`torch.nn` has another handy class we can use to simplify our code:\n",
        "[Sequential](https://pytorch.org/docs/stable/nn.html#torch.nn.Sequential)\n",
        ". A `Sequential` object runs each of the modules contained within it, in\n",
        "a sequential manner. This is a simpler way of writing our neural\n",
        "network.\n",
        "\n",
        "To take advantage of this, we need to be able to easily define a\n",
        "**custom layer** from a given function. For instance, PyTorch doesn\\'t\n",
        "have a [view]{.title-ref} layer, and we need to create one for our\n",
        "network. `Lambda` will create a layer that we can then use when defining\n",
        "a network with `Sequential`.\n"
      ]
    },
    {
      "cell_type": "code",
      "execution_count": null,
      "metadata": {
        "id": "M8llz9PT3jSa"
      },
      "outputs": [],
      "source": [
        "class Lambda(nn.Module):\n",
        "    def __init__(self, func):\n",
        "        super().__init__()\n",
        "        self.func = func\n",
        "\n",
        "    def forward(self, x):\n",
        "        return self.func(x)\n",
        "\n",
        "\n",
        "def preprocess(x):\n",
        "    return x.view(-1, 1, 28, 28)"
      ]
    },
    {
      "cell_type": "markdown",
      "metadata": {
        "id": "KKdnSmq03jSa"
      },
      "source": [
        "The model created with `Sequential` is simple:\n"
      ]
    },
    {
      "cell_type": "code",
      "execution_count": null,
      "metadata": {
        "id": "qRQR_vV93jSa"
      },
      "outputs": [],
      "source": [
        "model = nn.Sequential(\n",
        "    Lambda(preprocess),\n",
        "    nn.Conv2d(1, 16, kernel_size=3, stride=2, padding=1),\n",
        "    nn.ReLU(),\n",
        "    nn.Conv2d(16, 16, kernel_size=3, stride=2, padding=1),\n",
        "    nn.ReLU(),\n",
        "    nn.Conv2d(16, 10, kernel_size=3, stride=2, padding=1),\n",
        "    nn.ReLU(),\n",
        "    nn.AvgPool2d(4),\n",
        "    Lambda(lambda x: x.view(x.size(0), -1)),\n",
        ")\n",
        "\n",
        "opt = optim.SGD(model.parameters(), lr=lr, momentum=0.9)\n",
        "\n",
        "fit(epochs, model, loss_func, opt, train_dl, valid_dl)"
      ]
    },
    {
      "cell_type": "markdown",
      "metadata": {
        "id": "xZ5Qxtft3jSb"
      },
      "source": [
        "Wrapping `DataLoader`\n",
        "=====================\n",
        "\n",
        "Our CNN is fairly concise, but it only works with MNIST, because:\n",
        "\n",
        ":   -   It assumes the input is a 28\\*28 long vector\n",
        "    -   It assumes that the final CNN grid size is 4\\*4 (since that\\'s\n",
        "        the average pooling kernel size we used)\n",
        "\n",
        "Let\\'s get rid of these two assumptions, so our model works with any 2d\n",
        "single channel image. First, we can remove the initial Lambda layer by\n",
        "moving the data preprocessing into a generator:\n"
      ]
    },
    {
      "cell_type": "code",
      "execution_count": null,
      "metadata": {
        "id": "oLDtdCOy3jSb"
      },
      "outputs": [],
      "source": [
        "def preprocess(x, y):\n",
        "    return x.view(-1, 1, 28, 28), y\n",
        "\n",
        "\n",
        "class WrappedDataLoader:\n",
        "    def __init__(self, dl, func):\n",
        "        self.dl = dl\n",
        "        self.func = func\n",
        "\n",
        "    def __len__(self):\n",
        "        return len(self.dl)\n",
        "\n",
        "    def __iter__(self):\n",
        "        for b in self.dl:\n",
        "            yield (self.func(*b))\n",
        "\n",
        "train_dl, valid_dl = get_data(train_ds, valid_ds, bs)\n",
        "train_dl = WrappedDataLoader(train_dl, preprocess)\n",
        "valid_dl = WrappedDataLoader(valid_dl, preprocess)"
      ]
    },
    {
      "cell_type": "markdown",
      "metadata": {
        "id": "V8nNuhL33jSb"
      },
      "source": [
        "Next, we can replace `nn.AvgPool2d` with `nn.AdaptiveAvgPool2d`, which\n",
        "allows us to define the size of the *output* tensor we want, rather than\n",
        "the *input* tensor we have. As a result, our model will work with any\n",
        "size input.\n"
      ]
    },
    {
      "cell_type": "code",
      "execution_count": null,
      "metadata": {
        "id": "tfz3pbrm3jSb"
      },
      "outputs": [],
      "source": [
        "model = nn.Sequential(\n",
        "    nn.Conv2d(1, 16, kernel_size=3, stride=2, padding=1),\n",
        "    nn.ReLU(),\n",
        "    nn.Conv2d(16, 16, kernel_size=3, stride=2, padding=1),\n",
        "    nn.ReLU(),\n",
        "    nn.Conv2d(16, 10, kernel_size=3, stride=2, padding=1),\n",
        "    nn.ReLU(),\n",
        "    nn.AdaptiveAvgPool2d(1),\n",
        "    Lambda(lambda x: x.view(x.size(0), -1)),\n",
        ")\n",
        "\n",
        "opt = optim.SGD(model.parameters(), lr=lr, momentum=0.9)"
      ]
    },
    {
      "cell_type": "markdown",
      "metadata": {
        "id": "ISbzgNAU3jSc"
      },
      "source": [
        "Let\\'s try it out:\n"
      ]
    },
    {
      "cell_type": "code",
      "execution_count": null,
      "metadata": {
        "id": "OP01hs3-3jSc"
      },
      "outputs": [],
      "source": [
        "fit(epochs, model, loss_func, opt, train_dl, valid_dl)"
      ]
    },
    {
      "cell_type": "markdown",
      "metadata": {
        "id": "Kxa-FEvo3jSc"
      },
      "source": [
        "Using your GPU\n",
        "==============\n",
        "\n",
        "If you\\'re lucky enough to have access to a CUDA-capable GPU (you can\n",
        "rent one for about \\$0.50/hour from most cloud providers) you can use it\n",
        "to speed up your code. First check that your GPU is working in Pytorch:\n"
      ]
    },
    {
      "cell_type": "code",
      "execution_count": null,
      "metadata": {
        "id": "1jclZqBP3jSc"
      },
      "outputs": [],
      "source": [
        "print(torch.cuda.is_available())"
      ]
    },
    {
      "cell_type": "markdown",
      "metadata": {
        "id": "OAO74cZZ3jSc"
      },
      "source": [
        "And then create a device object for it:\n"
      ]
    },
    {
      "cell_type": "code",
      "execution_count": null,
      "metadata": {
        "id": "A3QT_yaK3jSc"
      },
      "outputs": [],
      "source": [
        "dev = torch.device(\n",
        "    \"cuda\") if torch.cuda.is_available() else torch.device(\"cpu\")"
      ]
    },
    {
      "cell_type": "markdown",
      "metadata": {
        "id": "SpRequWB3jSd"
      },
      "source": [
        "Let\\'s update `preprocess` to move batches to the GPU:\n"
      ]
    },
    {
      "cell_type": "code",
      "execution_count": null,
      "metadata": {
        "id": "PtcMIgDD3jSd"
      },
      "outputs": [],
      "source": [
        "def preprocess(x, y):\n",
        "    return x.view(-1, 1, 28, 28).to(dev), y.to(dev)\n",
        "\n",
        "\n",
        "train_dl, valid_dl = get_data(train_ds, valid_ds, bs)\n",
        "train_dl = WrappedDataLoader(train_dl, preprocess)\n",
        "valid_dl = WrappedDataLoader(valid_dl, preprocess)"
      ]
    },
    {
      "cell_type": "markdown",
      "metadata": {
        "id": "2DYimxaV3jSd"
      },
      "source": [
        "Finally, we can move our model to the GPU.\n"
      ]
    },
    {
      "cell_type": "code",
      "execution_count": null,
      "metadata": {
        "id": "7mQSlJbV3jSd"
      },
      "outputs": [],
      "source": [
        "model.to(dev)\n",
        "opt = optim.SGD(model.parameters(), lr=lr, momentum=0.9)"
      ]
    },
    {
      "cell_type": "markdown",
      "metadata": {
        "id": "d9UcPTVC3jSe"
      },
      "source": [
        "You should find it runs faster now:\n"
      ]
    },
    {
      "cell_type": "code",
      "execution_count": null,
      "metadata": {
        "id": "0bWB9Jdh3jSe"
      },
      "outputs": [],
      "source": [
        "fit(epochs, model, loss_func, opt, train_dl, valid_dl)"
      ]
    },
    {
      "cell_type": "markdown",
      "metadata": {
        "id": "NAlSqWI33jSe"
      },
      "source": [
        "Closing thoughts\n",
        "================\n",
        "\n",
        "We now have a general data pipeline and training loop which you can use\n",
        "for training many types of models using Pytorch. To see how simple\n",
        "training a model can now be, take a look at the [mnist\\_sample\n",
        "notebook](https://github.com/fastai/fastai_dev/blob/master/dev_nb/mnist_sample.ipynb).\n",
        "\n",
        "Of course, there are many things you\\'ll want to add, such as data\n",
        "augmentation, hyperparameter tuning, monitoring training, transfer\n",
        "learning, and so forth. These features are available in the fastai\n",
        "library, which has been developed using the same design approach shown\n",
        "in this tutorial, providing a natural next step for practitioners\n",
        "looking to take their models further.\n",
        "\n",
        "We promised at the start of this tutorial we\\'d explain through example\n",
        "each of `torch.nn`, `torch.optim`, `Dataset`, and `DataLoader`. So\n",
        "let\\'s summarize what we\\'ve seen:\n",
        "\n",
        "> -   `torch.nn`:\n",
        ">     -   `Module`: creates a callable which behaves like a function,\n",
        ">         but can also contain state(such as neural net layer weights).\n",
        ">         It knows what `Parameter` (s) it contains and can zero all\n",
        ">         their gradients, loop through them for weight updates, etc.\n",
        ">     -   `Parameter`: a wrapper for a tensor that tells a `Module` that\n",
        ">         it has weights that need updating during backprop. Only\n",
        ">         tensors with the [requires\\_grad]{.title-ref} attribute set\n",
        ">         are updated\n",
        ">     -   `functional`: a module(usually imported into the `F` namespace\n",
        ">         by convention) which contains activation functions, loss\n",
        ">         functions, etc, as well as non-stateful versions of layers\n",
        ">         such as convolutional and linear layers.\n",
        "> -   `torch.optim`: Contains optimizers such as `SGD`, which update the\n",
        ">     weights of `Parameter` during the backward step\n",
        "> -   `Dataset`: An abstract interface of objects with a `__len__` and a\n",
        ">     `__getitem__`, including classes provided with Pytorch such as\n",
        ">     `TensorDataset`\n",
        "> -   `DataLoader`: Takes any `Dataset` and creates an iterator which\n",
        ">     returns batches of data.\n"
      ]
    }
  ],
  "metadata": {
    "kernelspec": {
      "display_name": "Python 3",
      "language": "python",
      "name": "python3"
    },
    "language_info": {
      "codemirror_mode": {
        "name": "ipython",
        "version": 3
      },
      "file_extension": ".py",
      "mimetype": "text/x-python",
      "name": "python",
      "nbconvert_exporter": "python",
      "pygments_lexer": "ipython3",
      "version": "3.10.14"
    },
    "colab": {
      "provenance": [],
      "include_colab_link": true
    }
  },
  "nbformat": 4,
  "nbformat_minor": 0
}