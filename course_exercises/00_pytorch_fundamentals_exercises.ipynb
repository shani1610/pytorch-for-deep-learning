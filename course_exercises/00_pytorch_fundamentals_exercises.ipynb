{
  "nbformat": 4,
  "nbformat_minor": 0,
  "metadata": {
    "colab": {
      "name": "00_pytorch_fundamentals_exercises.ipynb",
      "provenance": [],
      "include_colab_link": true
    },
    "kernelspec": {
      "name": "python3",
      "display_name": "Python 3"
    },
    "language_info": {
      "name": "python"
    },
    "accelerator": "GPU"
  },
  "cells": [
    {
      "cell_type": "markdown",
      "metadata": {
        "id": "view-in-github",
        "colab_type": "text"
      },
      "source": [
        "<a href=\"https://colab.research.google.com/github/shani1610/pytorch-for-deep-learning/blob/main/course_exercises/00_pytorch_fundamentals_exercises.ipynb\" target=\"_parent\"><img src=\"https://colab.research.google.com/assets/colab-badge.svg\" alt=\"Open In Colab\"/></a>"
      ]
    },
    {
      "cell_type": "markdown",
      "source": [
        "# 00. PyTorch Fundamentals Exercises\n",
        "\n",
        "### 1. Documentation reading\n",
        "\n",
        "A big part of deep learning (and learning to code in general) is getting familiar with the documentation of a certain framework you're using. We'll be using the PyTorch documentation a lot throughout the rest of this course. So I'd recommend spending 10-minutes reading the following (it's okay if you don't get some things for now, the focus is not yet full understanding, it's awareness):\n",
        "  * The documentation on [`torch.Tensor`](https://pytorch.org/docs/stable/tensors.html#torch-tensor).\n",
        "  * The documentation on [`torch.cuda`](https://pytorch.org/docs/master/notes/cuda.html#cuda-semantics).\n",
        "\n"
      ],
      "metadata": {
        "id": "AzDBM_v4iMe7"
      }
    },
    {
      "cell_type": "code",
      "source": [
        "# No code solution (reading)"
      ],
      "metadata": {
        "id": "bGD0oD8Kizak"
      },
      "execution_count": null,
      "outputs": []
    },
    {
      "cell_type": "markdown",
      "source": [
        "### 2. Create a random tensor with shape `(7, 7)`.\n"
      ],
      "metadata": {
        "id": "__iXqqz-ioUJ"
      }
    },
    {
      "cell_type": "code",
      "source": [
        "# Import torch\n",
        "import torch\n"
      ],
      "metadata": {
        "id": "4ZS5vmxNP33V"
      },
      "execution_count": 1,
      "outputs": []
    },
    {
      "cell_type": "code",
      "source": [
        "# Create random tensor\n",
        "random_tensor_A = torch.rand([7,7])"
      ],
      "metadata": {
        "id": "6pUq9Dc8i2L7"
      },
      "execution_count": 5,
      "outputs": []
    },
    {
      "cell_type": "code",
      "source": [
        "random_tensor_A"
      ],
      "metadata": {
        "id": "8JzHv0hOQBZD",
        "outputId": "a99adfc8-d9c8-44c0-96e0-b8ace879545b",
        "colab": {
          "base_uri": "https://localhost:8080/"
        }
      },
      "execution_count": 6,
      "outputs": [
        {
          "output_type": "execute_result",
          "data": {
            "text/plain": [
              "tensor([[0.2934, 0.7311, 0.8393, 0.6694, 0.6615, 0.7052, 0.4920],\n",
              "        [0.1653, 0.4898, 0.3388, 0.9044, 0.6679, 0.4868, 0.7794],\n",
              "        [0.8637, 0.2025, 0.9490, 0.0882, 0.1746, 0.4295, 0.1787],\n",
              "        [0.4810, 0.5978, 0.2016, 0.9564, 0.3026, 0.6130, 0.0041],\n",
              "        [0.1338, 0.2466, 0.5809, 0.6792, 0.7877, 0.9396, 0.8678],\n",
              "        [0.9778, 0.9538, 0.8432, 0.7072, 0.8052, 0.8821, 0.8133],\n",
              "        [0.2565, 0.6147, 0.9467, 0.6744, 0.4240, 0.2851, 0.3802]])"
            ]
          },
          "metadata": {},
          "execution_count": 6
        }
      ]
    },
    {
      "cell_type": "markdown",
      "source": [
        "### 3. Perform a matrix multiplication on the tensor from 2 with another random tensor with shape `(1, 7)` (hint: you may have to transpose the second tensor)."
      ],
      "metadata": {
        "id": "9-XxvRLfiqkR"
      }
    },
    {
      "cell_type": "code",
      "source": [
        "# Create another random tensor\n",
        "random_tensor_B = torch.rand([1,7])"
      ],
      "metadata": {
        "id": "rCidSNUqQFhX"
      },
      "execution_count": 7,
      "outputs": []
    },
    {
      "cell_type": "code",
      "source": [
        "# Perform matrix multiplication\n",
        "tensor_C = torch.matmul(random_tensor_A, random_tensor_B.T)"
      ],
      "metadata": {
        "id": "NcLqR0Sbi_vT"
      },
      "execution_count": 9,
      "outputs": []
    },
    {
      "cell_type": "code",
      "source": [
        "random_tensor_A.shape, random_tensor_B.shape, tensor_C.shape"
      ],
      "metadata": {
        "id": "zKkQEZ4tQbUU",
        "outputId": "6a07bef4-f99d-4419-c643-2eebe29ba340",
        "colab": {
          "base_uri": "https://localhost:8080/"
        }
      },
      "execution_count": 12,
      "outputs": [
        {
          "output_type": "execute_result",
          "data": {
            "text/plain": [
              "(torch.Size([7, 7]), torch.Size([1, 7]), torch.Size([7, 1]))"
            ]
          },
          "metadata": {},
          "execution_count": 12
        }
      ]
    },
    {
      "cell_type": "markdown",
      "source": [
        "### 4. Set the random seed to `0` and do 2 & 3 over again.\n",
        "\n",
        "The output should be:\n",
        "```\n",
        "(tensor([[1.8542],\n",
        "         [1.9611],\n",
        "         [2.2884],\n",
        "         [3.0481],\n",
        "         [1.7067],\n",
        "         [2.5290],\n",
        "         [1.7989]]), torch.Size([7, 1]))\n",
        "```"
      ],
      "metadata": {
        "id": "eiutdKUFiryU"
      }
    },
    {
      "cell_type": "code",
      "source": [
        "import random\n",
        "\n",
        "# Set manual seed\n",
        "RANDOM_SEED=0\n",
        "torch.manual_seed(seed=RANDOM_SEED)\n",
        "\n",
        "# Create two random tensors\n",
        "random_tensor_A = torch.rand([7,7])\n",
        "random_tensor_B = torch.rand([1,7])\n",
        "\n",
        "# Matrix multiply tensors\n",
        "tensor_C = torch.matmul(random_tensor_A, random_tensor_B.T)"
      ],
      "metadata": {
        "id": "D-lOWI_1jRMm"
      },
      "execution_count": 13,
      "outputs": []
    },
    {
      "cell_type": "code",
      "source": [
        "tensor_C"
      ],
      "metadata": {
        "id": "bV8V1KEuQ-P0",
        "outputId": "58bd0b0a-dc4c-40c4-ee6b-03438885f4b1",
        "colab": {
          "base_uri": "https://localhost:8080/"
        }
      },
      "execution_count": 14,
      "outputs": [
        {
          "output_type": "execute_result",
          "data": {
            "text/plain": [
              "tensor([[1.8542],\n",
              "        [1.9611],\n",
              "        [2.2884],\n",
              "        [3.0481],\n",
              "        [1.7067],\n",
              "        [2.5290],\n",
              "        [1.7989]])"
            ]
          },
          "metadata": {},
          "execution_count": 14
        }
      ]
    },
    {
      "cell_type": "markdown",
      "source": [
        "### 5. Speaking of random seeds, we saw how to set it with `torch.manual_seed()` but is there a GPU equivalent? (hint: you'll need to look into the documentation for `torch.cuda` for this one)\n",
        "  * If there is, set the GPU random seed to `1234`."
      ],
      "metadata": {
        "id": "ezY6ks9Cis37"
      }
    },
    {
      "cell_type": "code",
      "source": [
        "torch.cuda.is_available()"
      ],
      "metadata": {
        "id": "aJjpsg8mRZGh",
        "outputId": "fdb68f5a-364e-4a37-ea92-2b8faf9d76f3",
        "colab": {
          "base_uri": "https://localhost:8080/"
        }
      },
      "execution_count": 16,
      "outputs": [
        {
          "output_type": "execute_result",
          "data": {
            "text/plain": [
              "True"
            ]
          },
          "metadata": {},
          "execution_count": 16
        }
      ]
    },
    {
      "cell_type": "code",
      "source": [
        "# Set random seed on the GPU\n",
        "RANDOM_SEED=1234\n",
        "torch.cuda.manual_seed(seed=RANDOM_SEED)"
      ],
      "metadata": {
        "id": "_LKWcfSTjp00"
      },
      "execution_count": 15,
      "outputs": []
    },
    {
      "cell_type": "markdown",
      "source": [
        "\n",
        "### 6. Create two random tensors of shape `(2, 3)` and send them both to the GPU (you'll need access to a GPU for this). Set `torch.manual_seed(1234)` when creating the tensors (this doesn't have to be the GPU random seed). The output should be something like:\n",
        "\n",
        "```\n",
        "Device: cuda\n",
        "(tensor([[0.0290, 0.4019, 0.2598],\n",
        "         [0.3666, 0.0583, 0.7006]], device='cuda:0'),\n",
        " tensor([[0.0518, 0.4681, 0.6738],\n",
        "         [0.3315, 0.7837, 0.5631]], device='cuda:0'))\n",
        "```"
      ],
      "metadata": {
        "id": "Ir9qSaj6it4n"
      }
    },
    {
      "cell_type": "code",
      "source": [
        "# Set random seed\n",
        "import random\n",
        "\n",
        "# Set manual seed\n",
        "RANDOM_SEED=1234\n",
        "torch.manual_seed(seed=RANDOM_SEED)\n",
        "\n",
        "# Check for access to GPU\n",
        "device = \"cuda\" if torch.cuda.is_available() else \"cpu\"\n",
        "print(f\"Device:{device}\")\n",
        "\n",
        "# Create two random tensors on GPU\n",
        "random_tensor_A = torch.rand([2,3])\n",
        "random_tensor_B = torch.rand([2,3])\n",
        "\n",
        "random_tensor_A_on_gpu = random_tensor_A.to(device)\n",
        "random_tensor_B_on_gpu = random_tensor_B.to(device)\n",
        "\n",
        "random_tensor_A_on_gpu, random_tensor_B_on_gpu"
      ],
      "metadata": {
        "id": "azXExiFZj5nm",
        "outputId": "6e65de4a-abb0-4514-c778-5fad2b60fac4",
        "colab": {
          "base_uri": "https://localhost:8080/"
        }
      },
      "execution_count": 17,
      "outputs": [
        {
          "output_type": "stream",
          "name": "stdout",
          "text": [
            "Device:cuda\n"
          ]
        },
        {
          "output_type": "execute_result",
          "data": {
            "text/plain": [
              "(tensor([[0.0290, 0.4019, 0.2598],\n",
              "         [0.3666, 0.0583, 0.7006]], device='cuda:0'),\n",
              " tensor([[0.0518, 0.4681, 0.6738],\n",
              "         [0.3315, 0.7837, 0.5631]], device='cuda:0'))"
            ]
          },
          "metadata": {},
          "execution_count": 17
        }
      ]
    },
    {
      "cell_type": "markdown",
      "source": [
        "\n",
        "### 7. Perform a matrix multiplication on the tensors you created in 6 (again, you may have to adjust the shapes of one of the tensors).\n",
        "\n",
        "The output should look like:\n",
        "```\n",
        "(tensor([[0.3647, 0.4709],\n",
        "         [0.5184, 0.5617]], device='cuda:0'), torch.Size([2, 2]))\n",
        "```"
      ],
      "metadata": {
        "id": "5TlAxeiSiu1y"
      }
    },
    {
      "cell_type": "code",
      "source": [
        "# Perform matmul on tensor_A and tensor_B\n",
        "tensor_C = torch.matmul(random_tensor_A_on_gpu, random_tensor_B_on_gpu.T)\n",
        "tensor_C, tensor_C.shape"
      ],
      "metadata": {
        "id": "fAeG7ox0lHEO",
        "outputId": "6240d101-01d3-45dc-850a-19ae7eafe433",
        "colab": {
          "base_uri": "https://localhost:8080/"
        }
      },
      "execution_count": 18,
      "outputs": [
        {
          "output_type": "execute_result",
          "data": {
            "text/plain": [
              "(tensor([[0.3647, 0.4709],\n",
              "         [0.5184, 0.5617]], device='cuda:0'),\n",
              " torch.Size([2, 2]))"
            ]
          },
          "metadata": {},
          "execution_count": 18
        }
      ]
    },
    {
      "cell_type": "markdown",
      "source": [
        "### 8. Find the maximum and minimum values of the output of 7."
      ],
      "metadata": {
        "id": "G7qfa5CSivwg"
      }
    },
    {
      "cell_type": "code",
      "source": [
        "# Find max\n",
        "tensor_C.max()\n",
        "\n"
      ],
      "metadata": {
        "id": "Fu8_3mZpllOd",
        "outputId": "2a9601ef-9d38-4ba4-db72-b71a456eb316",
        "colab": {
          "base_uri": "https://localhost:8080/"
        }
      },
      "execution_count": 21,
      "outputs": [
        {
          "output_type": "execute_result",
          "data": {
            "text/plain": [
              "tensor(0.5617, device='cuda:0')"
            ]
          },
          "metadata": {},
          "execution_count": 21
        }
      ]
    },
    {
      "cell_type": "code",
      "source": [
        "# Find min\n",
        "tensor_C.min()"
      ],
      "metadata": {
        "id": "FZ3-2n0bTIyG",
        "outputId": "59bca079-047c-401c-f7d4-a0b79dc37dfc",
        "colab": {
          "base_uri": "https://localhost:8080/"
        }
      },
      "execution_count": 22,
      "outputs": [
        {
          "output_type": "execute_result",
          "data": {
            "text/plain": [
              "tensor(0.3647, device='cuda:0')"
            ]
          },
          "metadata": {},
          "execution_count": 22
        }
      ]
    },
    {
      "cell_type": "markdown",
      "source": [
        "### 9. Find the maximum and minimum index values of the output of 7."
      ],
      "metadata": {
        "id": "wrTj5FgNiw47"
      }
    },
    {
      "cell_type": "code",
      "source": [
        "# Find arg max\n",
        "tensor_C.argmax()"
      ],
      "metadata": {
        "id": "CCEKt4K2lsfQ",
        "outputId": "a0d70f21-385b-4e53-fd8e-e995f69e8589",
        "colab": {
          "base_uri": "https://localhost:8080/"
        }
      },
      "execution_count": 23,
      "outputs": [
        {
          "output_type": "execute_result",
          "data": {
            "text/plain": [
              "tensor(3, device='cuda:0')"
            ]
          },
          "metadata": {},
          "execution_count": 23
        }
      ]
    },
    {
      "cell_type": "code",
      "source": [
        "# Find arg min\n",
        "tensor_C.argmin()"
      ],
      "metadata": {
        "id": "l0kazDE3TPqz",
        "outputId": "188a1a21-b026-429c-a7b0-5a3068d62dda",
        "colab": {
          "base_uri": "https://localhost:8080/"
        }
      },
      "execution_count": 25,
      "outputs": [
        {
          "output_type": "execute_result",
          "data": {
            "text/plain": [
              "tensor(0, device='cuda:0')"
            ]
          },
          "metadata": {},
          "execution_count": 25
        }
      ]
    },
    {
      "cell_type": "markdown",
      "source": [
        "\n",
        "### 10. Make a random tensor with shape `(1, 1, 1, 10)` and then create a new tensor with all the `1` dimensions removed to be left with a tensor of shape `(10)`. Set the seed to `7` when you create it and print out the first tensor and it's shape as well as the second tensor and it's shape.\n",
        "\n",
        "The output should look like:\n",
        "\n",
        "```\n",
        "tensor([[[[0.5349, 0.1988, 0.6592, 0.6569, 0.2328, 0.4251, 0.2071, 0.6297,\n",
        "           0.3653, 0.8513]]]]) torch.Size([1, 1, 1, 10])\n",
        "tensor([0.5349, 0.1988, 0.6592, 0.6569, 0.2328, 0.4251, 0.2071, 0.6297, 0.3653,\n",
        "        0.8513]) torch.Size([10])\n",
        "```"
      ],
      "metadata": {
        "id": "hmeybz4uixy7"
      }
    },
    {
      "cell_type": "code",
      "source": [
        "# Set seed\n",
        "import random\n",
        "RANDOM_SEED=7\n",
        "torch.manual_seed(seed=RANDOM_SEED)\n",
        "\n",
        "# Create random tensor\n",
        "random_tensor = torch.rand([1, 1, 1, 10])\n",
        "print(f\"tensor before:{random_tensor}, its shape:{random_tensor.shape}\")\n",
        "\n",
        "# Remove single dimensions\n",
        "random_tensor_new = random_tensor.squeeze()\n",
        "print(f\"tensor after:{random_tensor_new}, its shape:{random_tensor_new.shape}\")\n",
        "\n",
        "# Print out tensors and their shapes"
      ],
      "metadata": {
        "id": "TQ9zbRzVl1jV",
        "outputId": "b7b1edfb-b4b1-4d31-f302-9111184137a5",
        "colab": {
          "base_uri": "https://localhost:8080/"
        }
      },
      "execution_count": 28,
      "outputs": [
        {
          "output_type": "stream",
          "name": "stdout",
          "text": [
            "tensor before:tensor([[[[0.5349, 0.1988, 0.6592, 0.6569, 0.2328, 0.4251, 0.2071, 0.6297,\n",
            "           0.3653, 0.8513]]]]), its shape:torch.Size([1, 1, 1, 10])\n",
            "tensor after:tensor([0.5349, 0.1988, 0.6592, 0.6569, 0.2328, 0.4251, 0.2071, 0.6297, 0.3653,\n",
            "        0.8513]), its shape:torch.Size([10])\n"
          ]
        }
      ]
    }
  ]
}