{
  "nbformat": 4,
  "nbformat_minor": 0,
  "metadata": {
    "colab": {
      "name": "02_pytorch_classification_exercises.ipynb",
      "provenance": [],
      "gpuType": "T4",
      "include_colab_link": true
    },
    "kernelspec": {
      "name": "python3",
      "display_name": "Python 3"
    },
    "language_info": {
      "name": "python"
    },
    "accelerator": "GPU"
  },
  "cells": [
    {
      "cell_type": "markdown",
      "metadata": {
        "id": "view-in-github",
        "colab_type": "text"
      },
      "source": [
        "<a href=\"https://colab.research.google.com/github/shani1610/pytorch-for-deep-learning/blob/main/course_exercises/02_pytorch_classification_exercises.ipynb\" target=\"_parent\"><img src=\"https://colab.research.google.com/assets/colab-badge.svg\" alt=\"Open In Colab\"/></a>"
      ]
    },
    {
      "cell_type": "markdown",
      "source": [
        "# 02. PyTorch Classification Exercises\n",
        "\n",
        "The following is a template for 02. PyTorch Classification exercises.\n",
        "\n",
        "It's only starter code and it's your job to fill in the blanks.\n",
        "\n",
        "Because of the flexibility of PyTorch, there may be more than one way to answer the question.\n",
        "\n",
        "Don't worry about trying to be *right* just try writing code that suffices the question.\n",
        "\n",
        "## Resources\n",
        "* These exercises are based on [notebook 02 of the learn PyTorch course](https://www.learnpytorch.io/02_pytorch_classification/).\n",
        "* You can see one form of [solutions on GitHub](https://github.com/mrdbourke/pytorch-deep-learning/tree/main/extras/solutions) (but try the exercises below yourself first!)."
      ],
      "metadata": {
        "id": "ZKJFt7YxH8yl"
      }
    },
    {
      "cell_type": "code",
      "source": [
        "# Import torch\n",
        "import torch\n",
        "\n",
        "# Setup device agnostic code\n",
        "device = \"cuda\" if torch.cuda.is_available() else \"cpu\"\n",
        "\n",
        "# Setup random seed\n",
        "RANDOM_SEED = 42"
      ],
      "metadata": {
        "id": "CSrUPgapO0tf"
      },
      "execution_count": 41,
      "outputs": []
    },
    {
      "cell_type": "code",
      "source": [
        "device"
      ],
      "metadata": {
        "id": "vGP5UxpZNBxN",
        "outputId": "17c14934-5f27-4eac-9f98-4ee1786c8c01",
        "colab": {
          "base_uri": "https://localhost:8080/",
          "height": 36
        }
      },
      "execution_count": 42,
      "outputs": [
        {
          "output_type": "execute_result",
          "data": {
            "text/plain": [
              "'cuda'"
            ],
            "application/vnd.google.colaboratory.intrinsic+json": {
              "type": "string"
            }
          },
          "metadata": {},
          "execution_count": 42
        }
      ]
    },
    {
      "cell_type": "markdown",
      "source": [
        "## 1. Make a binary classification dataset with Scikit-Learn's [`make_moons()`](https://scikit-learn.org/stable/modules/generated/sklearn.datasets.make_moons.html) function.\n",
        "  * For consistency, the dataset should have 1000 samples and a `random_state=42`.\n",
        "  * Turn the data into PyTorch tensors.\n",
        "  * Split the data into training and test sets using `train_test_split` with 80% training and 20% testing."
      ],
      "metadata": {
        "id": "pH7jIZ2SPFee"
      }
    },
    {
      "cell_type": "code",
      "source": [
        "# Create a dataset with Scikit-Learn's make_moons()\n",
        "from sklearn.datasets import make_moons\n",
        "\n",
        "n_samples = 1000\n",
        "random_state = 42\n",
        "X, y = make_moons(n_samples=n_samples, random_state=random_state)"
      ],
      "metadata": {
        "id": "5t4VhPV1PX1X"
      },
      "execution_count": 43,
      "outputs": []
    },
    {
      "cell_type": "code",
      "source": [
        "len(y)"
      ],
      "metadata": {
        "id": "rICAj9A1lLpR",
        "outputId": "ed7402e0-5792-4f27-b343-9cdf154a8783",
        "colab": {
          "base_uri": "https://localhost:8080/"
        }
      },
      "execution_count": 44,
      "outputs": [
        {
          "output_type": "execute_result",
          "data": {
            "text/plain": [
              "1000"
            ]
          },
          "metadata": {},
          "execution_count": 44
        }
      ]
    },
    {
      "cell_type": "code",
      "source": [
        "print(f\"First 5 X features:\\n{X[:5]}\")\n",
        "print(f\"\\nFirst 5 y labels:\\n{y[:5]}\")"
      ],
      "metadata": {
        "id": "lcZHwz6Blm8m",
        "outputId": "8ec15098-dc8c-49ec-918d-db4b8f0503c2",
        "colab": {
          "base_uri": "https://localhost:8080/"
        }
      },
      "execution_count": 45,
      "outputs": [
        {
          "output_type": "stream",
          "name": "stdout",
          "text": [
            "First 5 X features:\n",
            "[[ 0.00872719  0.36817352]\n",
            " [ 0.921384   -0.49690497]\n",
            " [ 0.94022577 -0.49821192]\n",
            " [ 0.46587532 -0.34540571]\n",
            " [-0.85041204  0.52611726]]\n",
            "\n",
            "First 5 y labels:\n",
            "[1 1 1 1 0]\n"
          ]
        }
      ]
    },
    {
      "cell_type": "code",
      "source": [
        "# Turn data into a DataFrame\n",
        "import pandas as pd\n",
        "circles = pd.DataFrame({\"X1\": X[:, 0],\n",
        "    \"X2\": X[:, 1],\n",
        "    \"label\": y\n",
        "})"
      ],
      "metadata": {
        "id": "SUeHZ3-3P9C7"
      },
      "execution_count": 46,
      "outputs": []
    },
    {
      "cell_type": "code",
      "source": [
        "# Visualize the data on a scatter plot\n",
        "import matplotlib.pyplot as plt\n",
        "plt.scatter(x=X[:,0], y=X[:,1], c=y, s=5, cmap=plt.cm.RdYlBu)\n",
        "plt.xlabel(\"X0\")\n",
        "plt.ylabel(\"X1\")\n"
      ],
      "metadata": {
        "id": "owrkPSFvQPFI",
        "outputId": "1a6cd08e-b69c-45b0-9593-910f0333af94",
        "colab": {
          "base_uri": "https://localhost:8080/",
          "height": 467
        }
      },
      "execution_count": 47,
      "outputs": [
        {
          "output_type": "execute_result",
          "data": {
            "text/plain": [
              "Text(0, 0.5, 'X1')"
            ]
          },
          "metadata": {},
          "execution_count": 47
        },
        {
          "output_type": "display_data",
          "data": {
            "text/plain": [
              "<Figure size 640x480 with 1 Axes>"
            ],
            "image/png": "[encoded data removed]"
          },
          "metadata": {}
        }
      ]
    },
    {
      "cell_type": "code",
      "source": [
        "# Turn data into tensors of dtype float\n",
        "X = torch.from_numpy(X).type(torch.float)\n",
        "y = torch.from_numpy(y).type(torch.float)\n"
      ],
      "metadata": {
        "id": "bDhyHn9fR4dq"
      },
      "execution_count": 48,
      "outputs": []
    },
    {
      "cell_type": "code",
      "source": [
        "# Split the data into train and test sets (80% train, 20% test)\n",
        "from sklearn.model_selection import train_test_split\n",
        "X_train, X_test, y_train, y_test = train_test_split(X, y, test_size=0.2, train_size=0.8, random_state=random_state)"
      ],
      "metadata": {
        "id": "o8IeOxykoZ9K"
      },
      "execution_count": 49,
      "outputs": []
    },
    {
      "cell_type": "code",
      "source": [
        "len(X_train), len(X_test), len(y_train), len(y_test)"
      ],
      "metadata": {
        "id": "RZu3Svw8obVf",
        "outputId": "b305d2fa-3858-4bdf-b012-0c1b192a0bc3",
        "colab": {
          "base_uri": "https://localhost:8080/"
        }
      },
      "execution_count": 50,
      "outputs": [
        {
          "output_type": "execute_result",
          "data": {
            "text/plain": [
              "(800, 200, 800, 200)"
            ]
          },
          "metadata": {},
          "execution_count": 50
        }
      ]
    },
    {
      "cell_type": "code",
      "source": [
        "len(X_train)"
      ],
      "metadata": {
        "id": "BrxisRdJE_be",
        "outputId": "4da761f9-4f75-4be4-dff4-ff78bff0b1e6",
        "colab": {
          "base_uri": "https://localhost:8080/"
        }
      },
      "execution_count": 51,
      "outputs": [
        {
          "output_type": "execute_result",
          "data": {
            "text/plain": [
              "800"
            ]
          },
          "metadata": {},
          "execution_count": 51
        }
      ]
    },
    {
      "cell_type": "markdown",
      "source": [
        "## 2. Build a model by subclassing `nn.Module` that incorporates non-linear activation functions and is capable of fitting the data you created in 1.\n",
        "  * Feel free to use any combination of PyTorch layers (linear and non-linear) you want."
      ],
      "metadata": {
        "id": "cMIjxZdzQfPz"
      }
    },
    {
      "cell_type": "code",
      "source": [
        "import torch\n",
        "from torch import nn\n",
        "\n",
        "# Inherit from nn.Module to make a model capable of fitting the mooon data\n",
        "class MoonModelV0(nn.Module):\n",
        "    def __init__(self):\n",
        "        super().__init__()\n",
        "        self.layer1 = nn.Linear(in_features=2, out_features=10)\n",
        "        self.layer2 = nn.Linear(in_features=10, out_features=10)\n",
        "        self.layer3 = nn.Linear(in_features=10, out_features=1)\n",
        "        self.activation = nn.ReLU()\n",
        "\n",
        "    def forward(self, x):\n",
        "        ## Your code here ##\n",
        "        return self.layer3(self.activation(self.layer2(self.activation(self.layer1(x)))))\n",
        "\n"
      ],
      "metadata": {
        "id": "hwtyvm34Ri6Q"
      },
      "execution_count": 52,
      "outputs": []
    },
    {
      "cell_type": "code",
      "source": [
        "# Instantiate the model\n",
        "## Your code here ##\n",
        "moon_model0 = MoonModelV0().to(device)\n"
      ],
      "metadata": {
        "id": "xBPlyW7rqKeM"
      },
      "execution_count": 53,
      "outputs": []
    },
    {
      "cell_type": "code",
      "source": [],
      "metadata": {
        "id": "H_eHoejONdag"
      },
      "execution_count": 53,
      "outputs": []
    },
    {
      "cell_type": "markdown",
      "source": [
        "## 3. Setup a binary classification compatible loss function and optimizer to use when training the model built in 2."
      ],
      "metadata": {
        "id": "DSj97RwyVeFE"
      }
    },
    {
      "cell_type": "code",
      "source": [
        "# Setup loss function\n",
        "loss_fn = nn.BCEWithLogitsLoss()\n",
        "\n",
        "# Setup optimizer to optimize model's parameters\n",
        "optimizer = torch.optim.SGD(moon_model0.parameters(), lr=0.05)\n"
      ],
      "metadata": {
        "id": "whSGw5qgVvxU"
      },
      "execution_count": 54,
      "outputs": []
    },
    {
      "cell_type": "code",
      "source": [
        "loss_fn"
      ],
      "metadata": {
        "id": "EJePdSzvr3cl",
        "outputId": "d08f92d4-48f4-4de9-be20-49c52de6a172",
        "colab": {
          "base_uri": "https://localhost:8080/"
        }
      },
      "execution_count": 55,
      "outputs": [
        {
          "output_type": "execute_result",
          "data": {
            "text/plain": [
              "BCEWithLogitsLoss()"
            ]
          },
          "metadata": {},
          "execution_count": 55
        }
      ]
    },
    {
      "cell_type": "code",
      "source": [
        "optimizer"
      ],
      "metadata": {
        "id": "A6ccUQwPr5nb",
        "outputId": "f5a2b0b9-14a5-4ae9-b8e7-5e7a281da363",
        "colab": {
          "base_uri": "https://localhost:8080/"
        }
      },
      "execution_count": 56,
      "outputs": [
        {
          "output_type": "execute_result",
          "data": {
            "text/plain": [
              "SGD (\n",
              "Parameter Group 0\n",
              "    dampening: 0\n",
              "    differentiable: False\n",
              "    foreach: None\n",
              "    fused: None\n",
              "    lr: 0.05\n",
              "    maximize: False\n",
              "    momentum: 0\n",
              "    nesterov: False\n",
              "    weight_decay: 0\n",
              ")"
            ]
          },
          "metadata": {},
          "execution_count": 56
        }
      ]
    },
    {
      "cell_type": "markdown",
      "source": [
        "## 4. Create a training and testing loop to fit the model you created in 2 to the data you created in 1.\n",
        "  * Do a forward pass of the model to see what's coming out in the form of logits, prediction probabilities and labels.\n",
        "  * To measure model accuray, you can create your own accuracy function or use the accuracy function in [TorchMetrics](https://torchmetrics.readthedocs.io/en/latest/).\n",
        "  * Train the model for long enough for it to reach over 96% accuracy.\n",
        "  * The training loop should output progress every 10 epochs of the model's training and test set loss and accuracy."
      ],
      "metadata": {
        "id": "nvk4PfNTWUAt"
      }
    },
    {
      "cell_type": "code",
      "source": [
        "moon_model0.to(device)\n"
      ],
      "metadata": {
        "id": "cjYUj2F_ucnb",
        "outputId": "5aeee215-427e-4477-ac3b-9bfbd0fab36c",
        "colab": {
          "base_uri": "https://localhost:8080/"
        }
      },
      "execution_count": 57,
      "outputs": [
        {
          "output_type": "execute_result",
          "data": {
            "text/plain": [
              "MoonModelV0(\n",
              "  (layer1): Linear(in_features=2, out_features=10, bias=True)\n",
              "  (layer2): Linear(in_features=10, out_features=10, bias=True)\n",
              "  (layer3): Linear(in_features=10, out_features=1, bias=True)\n",
              "  (activation): ReLU()\n",
              ")"
            ]
          },
          "metadata": {},
          "execution_count": 57
        }
      ]
    },
    {
      "cell_type": "code",
      "source": [
        "X_train.shape"
      ],
      "metadata": {
        "id": "e6Xe0qfyuxi2",
        "outputId": "bc514058-6c8d-47cb-ffd0-793c4cdccebd",
        "colab": {
          "base_uri": "https://localhost:8080/"
        }
      },
      "execution_count": 58,
      "outputs": [
        {
          "output_type": "execute_result",
          "data": {
            "text/plain": [
              "torch.Size([800, 2])"
            ]
          },
          "metadata": {},
          "execution_count": 58
        }
      ]
    },
    {
      "cell_type": "code",
      "source": [
        "X_train.shape"
      ],
      "metadata": {
        "id": "sXN63i2Yv-7I",
        "outputId": "ec21d12b-409f-40b9-b171-af706feab4df",
        "colab": {
          "base_uri": "https://localhost:8080/"
        }
      },
      "execution_count": 59,
      "outputs": [
        {
          "output_type": "execute_result",
          "data": {
            "text/plain": [
              "torch.Size([800, 2])"
            ]
          },
          "metadata": {},
          "execution_count": 59
        }
      ]
    },
    {
      "cell_type": "code",
      "source": [
        "# Calculate accuracy (a classification metric)\n",
        "def accuracy_fn(y_true, y_pred):\n",
        "    correct = torch.eq(y_true, y_pred).sum().item() # torch.eq() calculates where two tensors are equal\n",
        "    acc = (correct / len(y_pred)) * 100\n",
        "    return acc"
      ],
      "metadata": {
        "id": "pZ-Z9fqFw4JY"
      },
      "execution_count": 60,
      "outputs": []
    },
    {
      "cell_type": "code",
      "source": [
        "X_test.shape"
      ],
      "metadata": {
        "id": "1nXQNJbkxM4G",
        "outputId": "8687c572-aa4d-4038-c9d1-1eb551226a21",
        "colab": {
          "base_uri": "https://localhost:8080/"
        }
      },
      "execution_count": 61,
      "outputs": [
        {
          "output_type": "execute_result",
          "data": {
            "text/plain": [
              "torch.Size([200, 2])"
            ]
          },
          "metadata": {},
          "execution_count": 61
        }
      ]
    },
    {
      "cell_type": "code",
      "source": [
        "X_train = X_train.to(device)\n",
        "y_train = y_train.to(device)\n",
        "X_test = X_test.to(device)\n",
        "y_test = y_test.to(device)"
      ],
      "metadata": {
        "id": "3XY4vS4bKsN8"
      },
      "execution_count": 62,
      "outputs": []
    },
    {
      "cell_type": "code",
      "source": [
        "y_test.shape"
      ],
      "metadata": {
        "id": "cWCQZbrqNsW1",
        "outputId": "10082c1c-dcf6-4e7b-de34-d58d4fd18060",
        "colab": {
          "base_uri": "https://localhost:8080/"
        }
      },
      "execution_count": 63,
      "outputs": [
        {
          "output_type": "execute_result",
          "data": {
            "text/plain": [
              "torch.Size([200])"
            ]
          },
          "metadata": {},
          "execution_count": 63
        }
      ]
    },
    {
      "cell_type": "code",
      "source": [
        "y_train.shape"
      ],
      "metadata": {
        "id": "I1sC-ECkLFVg",
        "outputId": "d176e91f-1a81-4681-9d54-c617a829b2ce",
        "colab": {
          "base_uri": "https://localhost:8080/"
        }
      },
      "execution_count": 64,
      "outputs": [
        {
          "output_type": "execute_result",
          "data": {
            "text/plain": [
              "torch.Size([800])"
            ]
          },
          "metadata": {},
          "execution_count": 64
        }
      ]
    },
    {
      "cell_type": "code",
      "source": [
        "untrained_preds = moon_model0(X_test)\n",
        "print(f\"Length of predictions: {len(untrained_preds)}, Shape: {untrained_preds.shape}\")\n",
        "print(f\"Length of test samples: {len(y_test)}, Shape: {y_test.shape}\")\n",
        "print(f\"\\nFirst 10 predictions:\\n{untrained_preds[:10]}\")\n",
        "print(f\"\\nFirst 10 test labels:\\n{y_test[:10]}\")"
      ],
      "metadata": {
        "id": "ndVJCfjyN45f",
        "outputId": "99c8b262-4984-4da7-ac80-0f6b3a412555",
        "colab": {
          "base_uri": "https://localhost:8080/"
        }
      },
      "execution_count": 65,
      "outputs": [
        {
          "output_type": "stream",
          "name": "stdout",
          "text": [
            "Length of predictions: 200, Shape: torch.Size([200, 1])\n",
            "Length of test samples: 200, Shape: torch.Size([200])\n",
            "\n",
            "First 10 predictions:\n",
            "tensor([[-0.3454],\n",
            "        [-0.4856],\n",
            "        [-0.3530],\n",
            "        [-0.4952],\n",
            "        [-0.4394],\n",
            "        [-0.4589],\n",
            "        [-0.4365],\n",
            "        [-0.4129],\n",
            "        [-0.3493],\n",
            "        [-0.4813]], device='cuda:0', grad_fn=<SliceBackward0>)\n",
            "\n",
            "First 10 test labels:\n",
            "tensor([1., 0., 1., 0., 1., 1., 0., 0., 1., 0.], device='cuda:0')\n"
          ]
        }
      ]
    },
    {
      "cell_type": "code",
      "source": [
        "y_pred_probs = torch.round(torch.sigmoid(untrained_preds))\n",
        "print(f\"Length of predictions: {len(y_pred_probs)}, Shape: {y_pred_probs.shape}\")\n",
        "print(f\"Length of test samples: {len(y_test)}, Shape: {y_test.shape}\")\n",
        "print(f\"\\nFirst 10 predictions:\\n{y_pred_probs[:10]}\")\n",
        "print(f\"\\nFirst 10 test labels:\\n{y_test[:10]}\")"
      ],
      "metadata": {
        "id": "rEF7lYn5OJ7l",
        "outputId": "a6803054-dd0e-4bfd-979b-729cbeaffd31",
        "colab": {
          "base_uri": "https://localhost:8080/"
        }
      },
      "execution_count": 66,
      "outputs": [
        {
          "output_type": "stream",
          "name": "stdout",
          "text": [
            "Length of predictions: 200, Shape: torch.Size([200, 1])\n",
            "Length of test samples: 200, Shape: torch.Size([200])\n",
            "\n",
            "First 10 predictions:\n",
            "tensor([[0.],\n",
            "        [0.],\n",
            "        [0.],\n",
            "        [0.],\n",
            "        [0.],\n",
            "        [0.],\n",
            "        [0.],\n",
            "        [0.],\n",
            "        [0.],\n",
            "        [0.]], device='cuda:0', grad_fn=<SliceBackward0>)\n",
            "\n",
            "First 10 test labels:\n",
            "tensor([1., 0., 1., 0., 1., 1., 0., 0., 1., 0.], device='cuda:0')\n"
          ]
        }
      ]
    },
    {
      "cell_type": "code",
      "source": [
        "y_pred_probs_squeezed = y_pred_probs.squeeze()"
      ],
      "metadata": {
        "id": "pHxwZDkYOZS4"
      },
      "execution_count": 67,
      "outputs": []
    },
    {
      "cell_type": "code",
      "source": [
        "print(f\"Length of predictions: {len(y_pred_probs_squeezed)}, Shape: {y_pred_probs_squeezed.shape}\")\n",
        "print(f\"Length of test samples: {len(y_test)}, Shape: {y_test.shape}\")\n",
        "print(f\"\\nFirst 10 predictions:\\n{y_pred_probs_squeezed[:10]}\")\n",
        "print(f\"\\nFirst 10 test labels:\\n{y_test[:10]}\")"
      ],
      "metadata": {
        "id": "zkl_EumyPDwt",
        "outputId": "165d5730-3a59-4015-a3ff-e317471b4e79",
        "colab": {
          "base_uri": "https://localhost:8080/"
        }
      },
      "execution_count": 68,
      "outputs": [
        {
          "output_type": "stream",
          "name": "stdout",
          "text": [
            "Length of predictions: 200, Shape: torch.Size([200])\n",
            "Length of test samples: 200, Shape: torch.Size([200])\n",
            "\n",
            "First 10 predictions:\n",
            "tensor([0., 0., 0., 0., 0., 0., 0., 0., 0., 0.], device='cuda:0',\n",
            "       grad_fn=<SliceBackward0>)\n",
            "\n",
            "First 10 test labels:\n",
            "tensor([1., 0., 1., 0., 1., 1., 0., 0., 1., 0.], device='cuda:0')\n"
          ]
        }
      ]
    },
    {
      "cell_type": "code",
      "source": [],
      "metadata": {
        "id": "URcQ_3EOc4g4"
      },
      "execution_count": 68,
      "outputs": []
    },
    {
      "cell_type": "code",
      "source": [
        "moon_model0.to(device)\n"
      ],
      "metadata": {
        "id": "3NDeMtBmdYQ6",
        "outputId": "17757bab-6f1b-4332-e648-c2493c742345",
        "colab": {
          "base_uri": "https://localhost:8080/"
        }
      },
      "execution_count": 69,
      "outputs": [
        {
          "output_type": "execute_result",
          "data": {
            "text/plain": [
              "MoonModelV0(\n",
              "  (layer1): Linear(in_features=2, out_features=10, bias=True)\n",
              "  (layer2): Linear(in_features=10, out_features=10, bias=True)\n",
              "  (layer3): Linear(in_features=10, out_features=1, bias=True)\n",
              "  (activation): ReLU()\n",
              ")"
            ]
          },
          "metadata": {},
          "execution_count": 69
        }
      ]
    },
    {
      "cell_type": "code",
      "source": [
        "X_train"
      ],
      "metadata": {
        "id": "D86ANrgPdir8",
        "outputId": "fd4c7c3a-eb64-4e50-9576-4a11711c2c9e",
        "colab": {
          "base_uri": "https://localhost:8080/"
        }
      },
      "execution_count": 70,
      "outputs": [
        {
          "output_type": "execute_result",
          "data": {
            "text/plain": [
              "tensor([[ 1.9469,  0.1784],\n",
              "        [-0.9174,  0.3979],\n",
              "        [-0.0786,  0.9969],\n",
              "        ...,\n",
              "        [-0.7236,  0.6902],\n",
              "        [ 0.9971,  0.0755],\n",
              "        [ 1.9224,  0.1137]], device='cuda:0')"
            ]
          },
          "metadata": {},
          "execution_count": 70
        }
      ]
    },
    {
      "cell_type": "code",
      "source": [],
      "metadata": {
        "id": "QM0Wy4R2dlnL"
      },
      "execution_count": 70,
      "outputs": []
    },
    {
      "cell_type": "code",
      "source": [
        "# Training and testing loop to fit the data\n",
        "\n",
        "epochs = 1000\n",
        "for epoch in range(epochs):\n",
        "\n",
        "    # training\n",
        "    moon_model0.train()\n",
        "\n",
        "    # 1. Forward pass (model outputs raw logits)\n",
        "    y_logits = moon_model0(X_train).squeeze() # squeeze to remove extra `1` dimensions, this won't work unless model and data are on same device\n",
        "    y_pred = torch.round(torch.sigmoid(y_logits)) # turn logits -> pred probs -> pred labls\n",
        "\n",
        "    # 2. Calculate loss/accuracy\n",
        "    loss = loss_fn(y_logits, # Using nn.BCEWithLogitsLoss works with raw logits\n",
        "                   y_train)\n",
        "    acc = accuracy_fn(y_true=y_train,\n",
        "                      y_pred=y_pred)\n",
        "\n",
        "    # i have the loss now continue with training:\n",
        "    optimizer.zero_grad()\n",
        "    loss.backward()\n",
        "    optimizer.step()\n",
        "\n",
        "    # evaluation\n",
        "    moon_model0.eval()\n",
        "    with torch.inference_mode():\n",
        "      y_test_logits = moon_model0(X_test).squeeze()\n",
        "      y_test_pred = torch.round(torch.sigmoid(y_test_logits))\n",
        "      test_loss = loss_fn(y_test_logits, y_test_pred)\n",
        "      test_acc = accuracy_fn(y_true=y_test, y_pred=y_test_pred)\n",
        "\n",
        "    if epoch%10 == 0:\n",
        "      print(f\"Epoch: {epoch} | Loss: {loss:.5f}, Accuracy: {acc:.2f}% | Test loss: {test_loss:.5f}, Test acc: {test_acc:.2f}%\")"
      ],
      "metadata": {
        "id": "4aDPV-wirMdl",
        "outputId": "90c02435-405d-4098-c52c-26bd5f350162",
        "colab": {
          "base_uri": "https://localhost:8080/"
        }
      },
      "execution_count": 71,
      "outputs": [
        {
          "output_type": "stream",
          "name": "stdout",
          "text": [
            "Epoch: 0 | Loss: 0.69652, Accuracy: 50.00% | Test loss: 0.50492, Test acc: 50.00%\n",
            "Epoch: 10 | Loss: 0.67708, Accuracy: 50.00% | Test loss: 0.53942, Test acc: 50.00%\n",
            "Epoch: 20 | Loss: 0.65815, Accuracy: 50.00% | Test loss: 0.56920, Test acc: 50.00%\n",
            "Epoch: 30 | Loss: 0.64115, Accuracy: 50.00% | Test loss: 0.58678, Test acc: 50.00%\n",
            "Epoch: 40 | Loss: 0.62377, Accuracy: 71.00% | Test loss: 0.59085, Test acc: 73.50%\n",
            "Epoch: 50 | Loss: 0.60397, Accuracy: 82.88% | Test loss: 0.57751, Test acc: 80.50%\n",
            "Epoch: 60 | Loss: 0.58132, Accuracy: 82.50% | Test loss: 0.55614, Test acc: 80.00%\n",
            "Epoch: 70 | Loss: 0.55630, Accuracy: 82.62% | Test loss: 0.52987, Test acc: 78.50%\n",
            "Epoch: 80 | Loss: 0.52896, Accuracy: 82.62% | Test loss: 0.49977, Test acc: 77.50%\n",
            "Epoch: 90 | Loss: 0.50001, Accuracy: 82.62% | Test loss: 0.46699, Test acc: 78.00%\n",
            "Epoch: 100 | Loss: 0.47053, Accuracy: 83.00% | Test loss: 0.43308, Test acc: 77.50%\n",
            "Epoch: 110 | Loss: 0.44179, Accuracy: 83.25% | Test loss: 0.39971, Test acc: 78.00%\n",
            "Epoch: 120 | Loss: 0.41486, Accuracy: 83.62% | Test loss: 0.36818, Test acc: 78.00%\n",
            "Epoch: 130 | Loss: 0.39045, Accuracy: 83.75% | Test loss: 0.33962, Test acc: 80.00%\n",
            "Epoch: 140 | Loss: 0.36885, Accuracy: 83.75% | Test loss: 0.31413, Test acc: 82.00%\n",
            "Epoch: 150 | Loss: 0.34999, Accuracy: 84.12% | Test loss: 0.29187, Test acc: 82.50%\n",
            "Epoch: 160 | Loss: 0.33366, Accuracy: 84.75% | Test loss: 0.27307, Test acc: 82.50%\n",
            "Epoch: 170 | Loss: 0.31972, Accuracy: 84.75% | Test loss: 0.25707, Test acc: 84.50%\n",
            "Epoch: 180 | Loss: 0.30767, Accuracy: 85.12% | Test loss: 0.24299, Test acc: 85.50%\n",
            "Epoch: 190 | Loss: 0.29712, Accuracy: 85.38% | Test loss: 0.23077, Test acc: 86.50%\n",
            "Epoch: 200 | Loss: 0.28782, Accuracy: 85.62% | Test loss: 0.22002, Test acc: 87.00%\n",
            "Epoch: 210 | Loss: 0.27956, Accuracy: 86.12% | Test loss: 0.21061, Test acc: 87.50%\n",
            "Epoch: 220 | Loss: 0.27220, Accuracy: 86.50% | Test loss: 0.20235, Test acc: 87.50%\n",
            "Epoch: 230 | Loss: 0.26565, Accuracy: 86.88% | Test loss: 0.19512, Test acc: 88.00%\n",
            "Epoch: 240 | Loss: 0.25981, Accuracy: 87.25% | Test loss: 0.18863, Test acc: 88.00%\n",
            "Epoch: 250 | Loss: 0.25461, Accuracy: 87.50% | Test loss: 0.18286, Test acc: 88.50%\n",
            "Epoch: 260 | Loss: 0.24996, Accuracy: 87.62% | Test loss: 0.17769, Test acc: 89.00%\n",
            "Epoch: 270 | Loss: 0.24580, Accuracy: 87.88% | Test loss: 0.17305, Test acc: 89.50%\n",
            "Epoch: 280 | Loss: 0.24207, Accuracy: 88.12% | Test loss: 0.16885, Test acc: 89.50%\n",
            "Epoch: 290 | Loss: 0.23873, Accuracy: 88.38% | Test loss: 0.16510, Test acc: 89.50%\n",
            "Epoch: 300 | Loss: 0.23573, Accuracy: 88.38% | Test loss: 0.16162, Test acc: 90.00%\n",
            "Epoch: 310 | Loss: 0.23302, Accuracy: 88.75% | Test loss: 0.15844, Test acc: 90.00%\n",
            "Epoch: 320 | Loss: 0.23056, Accuracy: 88.88% | Test loss: 0.15562, Test acc: 90.00%\n",
            "Epoch: 330 | Loss: 0.22833, Accuracy: 89.00% | Test loss: 0.15301, Test acc: 90.50%\n",
            "Epoch: 340 | Loss: 0.22629, Accuracy: 89.12% | Test loss: 0.15054, Test acc: 90.50%\n",
            "Epoch: 350 | Loss: 0.22442, Accuracy: 89.25% | Test loss: 0.14827, Test acc: 90.50%\n",
            "Epoch: 360 | Loss: 0.22270, Accuracy: 89.38% | Test loss: 0.14619, Test acc: 90.50%\n",
            "Epoch: 370 | Loss: 0.22109, Accuracy: 89.50% | Test loss: 0.14427, Test acc: 90.50%\n",
            "Epoch: 380 | Loss: 0.21959, Accuracy: 89.62% | Test loss: 0.14251, Test acc: 90.50%\n",
            "Epoch: 390 | Loss: 0.21818, Accuracy: 89.75% | Test loss: 0.14087, Test acc: 90.50%\n",
            "Epoch: 400 | Loss: 0.21684, Accuracy: 89.88% | Test loss: 0.13936, Test acc: 90.50%\n",
            "Epoch: 410 | Loss: 0.21557, Accuracy: 90.00% | Test loss: 0.13795, Test acc: 90.50%\n",
            "Epoch: 420 | Loss: 0.21436, Accuracy: 90.00% | Test loss: 0.13664, Test acc: 90.50%\n",
            "Epoch: 430 | Loss: 0.21319, Accuracy: 90.12% | Test loss: 0.13541, Test acc: 90.50%\n",
            "Epoch: 440 | Loss: 0.21206, Accuracy: 90.25% | Test loss: 0.13426, Test acc: 90.50%\n",
            "Epoch: 450 | Loss: 0.21095, Accuracy: 90.38% | Test loss: 0.13320, Test acc: 90.50%\n",
            "Epoch: 460 | Loss: 0.20988, Accuracy: 90.38% | Test loss: 0.13220, Test acc: 90.50%\n",
            "Epoch: 470 | Loss: 0.20882, Accuracy: 90.50% | Test loss: 0.13126, Test acc: 90.50%\n",
            "Epoch: 480 | Loss: 0.20777, Accuracy: 90.50% | Test loss: 0.13039, Test acc: 90.50%\n",
            "Epoch: 490 | Loss: 0.20674, Accuracy: 90.50% | Test loss: 0.12956, Test acc: 91.00%\n",
            "Epoch: 500 | Loss: 0.20572, Accuracy: 90.50% | Test loss: 0.12874, Test acc: 91.00%\n",
            "Epoch: 510 | Loss: 0.20470, Accuracy: 90.50% | Test loss: 0.12797, Test acc: 91.00%\n",
            "Epoch: 520 | Loss: 0.20368, Accuracy: 90.62% | Test loss: 0.12724, Test acc: 91.00%\n",
            "Epoch: 530 | Loss: 0.20266, Accuracy: 90.62% | Test loss: 0.12653, Test acc: 90.50%\n",
            "Epoch: 540 | Loss: 0.20163, Accuracy: 90.62% | Test loss: 0.12582, Test acc: 90.50%\n",
            "Epoch: 550 | Loss: 0.20060, Accuracy: 90.75% | Test loss: 0.12509, Test acc: 91.00%\n",
            "Epoch: 560 | Loss: 0.19957, Accuracy: 90.75% | Test loss: 0.12437, Test acc: 91.00%\n",
            "Epoch: 570 | Loss: 0.19853, Accuracy: 90.75% | Test loss: 0.12367, Test acc: 91.00%\n",
            "Epoch: 580 | Loss: 0.19747, Accuracy: 90.75% | Test loss: 0.12300, Test acc: 91.00%\n",
            "Epoch: 590 | Loss: 0.19641, Accuracy: 90.75% | Test loss: 0.12236, Test acc: 91.00%\n",
            "Epoch: 600 | Loss: 0.19533, Accuracy: 90.88% | Test loss: 0.12174, Test acc: 91.00%\n",
            "Epoch: 610 | Loss: 0.19423, Accuracy: 91.00% | Test loss: 0.12114, Test acc: 91.00%\n",
            "Epoch: 620 | Loss: 0.19312, Accuracy: 91.00% | Test loss: 0.12056, Test acc: 91.00%\n",
            "Epoch: 630 | Loss: 0.19200, Accuracy: 91.00% | Test loss: 0.11999, Test acc: 91.00%\n",
            "Epoch: 640 | Loss: 0.19085, Accuracy: 91.12% | Test loss: 0.11942, Test acc: 91.50%\n",
            "Epoch: 650 | Loss: 0.18969, Accuracy: 91.12% | Test loss: 0.11884, Test acc: 91.50%\n",
            "Epoch: 660 | Loss: 0.18851, Accuracy: 91.12% | Test loss: 0.11826, Test acc: 91.00%\n",
            "Epoch: 670 | Loss: 0.18731, Accuracy: 91.25% | Test loss: 0.11770, Test acc: 91.00%\n",
            "Epoch: 680 | Loss: 0.18608, Accuracy: 91.25% | Test loss: 0.11711, Test acc: 91.50%\n",
            "Epoch: 690 | Loss: 0.18484, Accuracy: 91.25% | Test loss: 0.11652, Test acc: 91.50%\n",
            "Epoch: 700 | Loss: 0.18357, Accuracy: 91.38% | Test loss: 0.11593, Test acc: 91.50%\n",
            "Epoch: 710 | Loss: 0.18228, Accuracy: 91.38% | Test loss: 0.11535, Test acc: 91.50%\n",
            "Epoch: 720 | Loss: 0.18096, Accuracy: 91.50% | Test loss: 0.11478, Test acc: 91.50%\n",
            "Epoch: 730 | Loss: 0.17962, Accuracy: 91.62% | Test loss: 0.11424, Test acc: 91.50%\n",
            "Epoch: 740 | Loss: 0.17825, Accuracy: 91.62% | Test loss: 0.11370, Test acc: 91.50%\n",
            "Epoch: 750 | Loss: 0.17686, Accuracy: 91.88% | Test loss: 0.11318, Test acc: 91.50%\n",
            "Epoch: 760 | Loss: 0.17544, Accuracy: 91.88% | Test loss: 0.11267, Test acc: 92.00%\n",
            "Epoch: 770 | Loss: 0.17400, Accuracy: 91.88% | Test loss: 0.11213, Test acc: 92.00%\n",
            "Epoch: 780 | Loss: 0.17253, Accuracy: 92.12% | Test loss: 0.11159, Test acc: 92.00%\n",
            "Epoch: 790 | Loss: 0.17103, Accuracy: 92.12% | Test loss: 0.11109, Test acc: 92.00%\n",
            "Epoch: 800 | Loss: 0.16950, Accuracy: 92.25% | Test loss: 0.11058, Test acc: 92.00%\n",
            "Epoch: 810 | Loss: 0.16794, Accuracy: 92.38% | Test loss: 0.11008, Test acc: 92.00%\n",
            "Epoch: 820 | Loss: 0.16635, Accuracy: 92.38% | Test loss: 0.10959, Test acc: 92.00%\n",
            "Epoch: 830 | Loss: 0.16473, Accuracy: 92.50% | Test loss: 0.10905, Test acc: 92.50%\n",
            "Epoch: 840 | Loss: 0.16308, Accuracy: 92.50% | Test loss: 0.10851, Test acc: 92.50%\n",
            "Epoch: 850 | Loss: 0.16140, Accuracy: 92.75% | Test loss: 0.10799, Test acc: 92.50%\n",
            "Epoch: 860 | Loss: 0.15968, Accuracy: 92.88% | Test loss: 0.10747, Test acc: 92.50%\n",
            "Epoch: 870 | Loss: 0.15794, Accuracy: 93.00% | Test loss: 0.10697, Test acc: 92.50%\n",
            "Epoch: 880 | Loss: 0.15616, Accuracy: 93.00% | Test loss: 0.10643, Test acc: 93.00%\n",
            "Epoch: 890 | Loss: 0.15435, Accuracy: 93.12% | Test loss: 0.10585, Test acc: 93.00%\n",
            "Epoch: 900 | Loss: 0.15251, Accuracy: 93.12% | Test loss: 0.10521, Test acc: 94.00%\n",
            "Epoch: 910 | Loss: 0.15064, Accuracy: 93.25% | Test loss: 0.10449, Test acc: 94.00%\n",
            "Epoch: 920 | Loss: 0.14874, Accuracy: 93.25% | Test loss: 0.10375, Test acc: 94.00%\n",
            "Epoch: 930 | Loss: 0.14681, Accuracy: 93.50% | Test loss: 0.10303, Test acc: 94.00%\n",
            "Epoch: 940 | Loss: 0.14485, Accuracy: 93.62% | Test loss: 0.10235, Test acc: 94.00%\n",
            "Epoch: 950 | Loss: 0.14286, Accuracy: 93.88% | Test loss: 0.10168, Test acc: 94.00%\n",
            "Epoch: 960 | Loss: 0.14085, Accuracy: 93.88% | Test loss: 0.10104, Test acc: 94.00%\n",
            "Epoch: 970 | Loss: 0.13881, Accuracy: 94.12% | Test loss: 0.10035, Test acc: 94.00%\n",
            "Epoch: 980 | Loss: 0.13675, Accuracy: 94.25% | Test loss: 0.09966, Test acc: 94.00%\n",
            "Epoch: 990 | Loss: 0.13466, Accuracy: 94.38% | Test loss: 0.09901, Test acc: 94.00%\n"
          ]
        }
      ]
    },
    {
      "cell_type": "code",
      "source": [],
      "metadata": {
        "id": "LC7fIBYST-Fi"
      },
      "execution_count": 71,
      "outputs": []
    },
    {
      "cell_type": "code",
      "source": [
        "import requests\n",
        "from pathlib import Path\n",
        "\n",
        "# Download helper functions from Learn PyTorch repo (if not already downloaded)\n",
        "if Path(\"helper_functions.py\").is_file():\n",
        "  print(\"helper_functions.py already exists, skipping download\")\n",
        "else:\n",
        "  print(\"Downloading helper_functions.py\")\n",
        "  request = requests.get(\"https://raw.githubusercontent.com/mrdbourke/pytorch-deep-learning/main/helper_functions.py\")\n",
        "  with open(\"helper_functions.py\", \"wb\") as f:\n",
        "    f.write(request.content)\n",
        "\n",
        "from helper_functions import plot_predictions, plot_decision_boundary"
      ],
      "metadata": {
        "id": "KDX2oR-fUEh2",
        "outputId": "02d8801a-03e6-4fde-e999-b3c2fb3d3ae4",
        "colab": {
          "base_uri": "https://localhost:8080/"
        }
      },
      "execution_count": 72,
      "outputs": [
        {
          "output_type": "stream",
          "name": "stdout",
          "text": [
            "helper_functions.py already exists, skipping download\n"
          ]
        }
      ]
    },
    {
      "cell_type": "code",
      "source": [
        "# Plot decision boundaries for training and test sets\n",
        "plt.figure(figsize=(12, 6))\n",
        "plt.subplot(1, 2, 1)\n",
        "plt.title(\"Train\")\n",
        "plot_decision_boundary(moon_model0, X_train, y_train) # model_1 = no non-linearity\n",
        "plt.subplot(1, 2, 2)\n",
        "plt.title(\"Test\")\n",
        "plot_decision_boundary(moon_model0, X_test, y_test) # model_3 = has non-linearity"
      ],
      "metadata": {
        "id": "owxwXdmkcnuZ",
        "outputId": "69e2241a-ebb7-4e5b-cad7-dff5391ee5d3",
        "colab": {
          "base_uri": "https://localhost:8080/",
          "height": 545
        }
      },
      "execution_count": 73,
      "outputs": [
        {
          "output_type": "display_data",
          "data": {
            "text/plain": [
              "<Figure size 1200x600 with 2 Axes>"
            ],
            "image/png": "[encoded data removed]"
          },
          "metadata": {}
        }
      ]
    },
    {
      "cell_type": "code",
      "source": [
        "# Plot decision boundaries for training and test sets\n",
        "plt.figure(figsize=(12, 6))\n",
        "plt.subplot(1, 2, 1)\n",
        "plt.title(\"Train\")\n",
        "plot_decision_boundary(moon_model0, X_train, y_train) # model_1 = no non-linearity\n",
        "plt.subplot(1, 2, 2)\n",
        "plt.title(\"Test\")\n",
        "plot_decision_boundary(moon_model0, X_test, y_test) # model_3 = has non-linearity"
      ],
      "metadata": {
        "id": "baQo4g7XT1Xj",
        "outputId": "bfbfca94-8eb0-457d-ea7f-ead4407dc174",
        "colab": {
          "base_uri": "https://localhost:8080/",
          "height": 545
        }
      },
      "execution_count": 74,
      "outputs": [
        {
          "output_type": "display_data",
          "data": {
            "text/plain": [
              "<Figure size 1200x600 with 2 Axes>"
            ],
            "image/png": "[encoded data removed]"
          },
          "metadata": {}
        }
      ]
    },
    {
      "cell_type": "code",
      "source": [],
      "metadata": {
        "id": "UZHmDe40Ts-V"
      },
      "execution_count": 74,
      "outputs": []
    },
    {
      "cell_type": "code",
      "source": [],
      "metadata": {
        "id": "8UmYsD90K8Zo"
      },
      "execution_count": 74,
      "outputs": []
    },
    {
      "cell_type": "code",
      "source": [
        "# What's coming out of our model?\n",
        "\n",
        "# logits (raw outputs of model)\n",
        "print(\"Logits:\")\n",
        "## Your code here ##\n",
        "\n",
        "# Prediction probabilities\n",
        "print(\"Pred probs:\")\n",
        "## Your code here ##\n",
        "\n",
        "# Prediction labels\n",
        "print(\"Pred labels:\")\n",
        "## Your code here ##"
      ],
      "metadata": {
        "colab": {
          "base_uri": "https://localhost:8080/"
        },
        "id": "AgnFdlamd2-D",
        "outputId": "dfb3962b-7ea2-42b2-827f-01ef62a05db3"
      },
      "execution_count": 75,
      "outputs": [
        {
          "output_type": "stream",
          "name": "stdout",
          "text": [
            "Logits:\n",
            "Pred probs:\n",
            "Pred labels:\n"
          ]
        }
      ]
    },
    {
      "cell_type": "code",
      "source": [
        "# Let's calculuate the accuracy using accuracy from TorchMetrics\n",
        "!pip -q install torchmetrics # Colab doesn't come with torchmetrics\n",
        "from torchmetrics import Accuracy\n",
        "\n",
        "## TODO: Uncomment this code to use the Accuracy function\n",
        "# acc_fn = Accuracy(task=\"multiclass\", num_classes=2).to(device) # send accuracy function to device\n",
        "# acc_fn"
      ],
      "metadata": {
        "id": "rUSDNHB4euoJ",
        "outputId": "9bfff211-c8bd-427b-835c-bced76e388d7",
        "colab": {
          "base_uri": "https://localhost:8080/"
        }
      },
      "execution_count": 76,
      "outputs": [
        {
          "output_type": "stream",
          "name": "stdout",
          "text": [
            "\u001b[2K     \u001b[90m━━━━━━━━━━━━━━━━━━━━━━━━━━━━━━━━━━━━━━━━\u001b[0m \u001b[32m868.8/868.8 kB\u001b[0m \u001b[31m8.8 MB/s\u001b[0m eta \u001b[36m0:00:00\u001b[0m\n",
            "\u001b[2K     \u001b[90m━━━━━━━━━━━━━━━━━━━━━━━━━━━━━━━━━━━━━━━━\u001b[0m \u001b[32m21.3/21.3 MB\u001b[0m \u001b[31m57.4 MB/s\u001b[0m eta \u001b[36m0:00:00\u001b[0m\n",
            "\u001b[?25h"
          ]
        }
      ]
    },
    {
      "cell_type": "code",
      "source": [
        "## TODO: Uncomment this to set the seed\n",
        "# torch.manual_seed(RANDOM_SEED)\n",
        "\n",
        "# Setup epochs\n",
        "\n",
        "\n",
        "# Send data to the device\n",
        "\n",
        "\n",
        "# Loop through the data\n",
        "# for epoch in range(epochs):\n",
        "  ### Training\n",
        "\n",
        "\n",
        "  # 1. Forward pass (logits output)\n",
        "\n",
        "  # Turn logits into prediction probabilities\n",
        "\n",
        "\n",
        "  # Turn prediction probabilities into prediction labels\n",
        "\n",
        "\n",
        "  # 2. Calculaute the loss\n",
        "  # loss = loss_fn(y_logits, y_train) # loss = compare model raw outputs to desired model outputs\n",
        "\n",
        "  # Calculate the accuracy\n",
        "  # acc = acc_fn(y_pred, y_train.int()) # the accuracy function needs to compare pred labels (not logits) with actual labels\n",
        "\n",
        "  # 3. Zero the gradients\n",
        "\n",
        "\n",
        "  # 4. Loss backward (perform backpropagation) - https://brilliant.org/wiki/backpropagation/#:~:text=Backpropagation%2C%20short%20for%20%22backward%20propagation,to%20the%20neural%20network's%20weights.\n",
        "\n",
        "  # 5. Step the optimizer (gradient descent) - https://towardsdatascience.com/gradient-descent-algorithm-a-deep-dive-cf04e8115f21#:~:text=Gradient%20descent%20(GD)%20is%20an,e.g.%20in%20a%20linear%20regression)\n",
        "\n",
        "\n",
        "  ### Testing\n",
        "  # model_0.eval()\n",
        "  # with torch.inference_mode():\n",
        "    # 1. Forward pass (to get the logits)\n",
        "\n",
        "    # Turn the test logits into prediction labels\n",
        "\n",
        "\n",
        "    # 2. Caculate the test loss/acc\n",
        "\n",
        "\n",
        "  # Print out what's happening every 100 epochs\n",
        "  # if epoch % 100 == 0:\n",
        ""
      ],
      "metadata": {
        "id": "SHBY3h7XXnxt"
      },
      "execution_count": 77,
      "outputs": []
    },
    {
      "cell_type": "markdown",
      "source": [
        "## 5. Make predictions with your trained model and plot them using the `plot_decision_boundary()` function created in this notebook."
      ],
      "metadata": {
        "id": "8Nwihtomj9JO"
      }
    },
    {
      "cell_type": "code",
      "source": [
        "# Plot the model predictions\n",
        "import numpy as np\n",
        "\n",
        "def plot_decision_boundary(model, X, y):\n",
        "\n",
        "    # Put everything to CPU (works better with NumPy + Matplotlib)\n",
        "    model.to(\"cpu\")\n",
        "    X, y = X.to(\"cpu\"), y.to(\"cpu\")\n",
        "\n",
        "    # Source - https://madewithml.com/courses/foundations/neural-networks/\n",
        "    # (with modifications)\n",
        "    x_min, x_max = X[:, 0].min() - 0.1, X[:, 0].max() + 0.1\n",
        "    y_min, y_max = X[:, 1].min() - 0.1, X[:, 1].max() + 0.1\n",
        "    xx, yy = np.meshgrid(np.linspace(x_min, x_max, 101),\n",
        "                         np.linspace(y_min, y_max, 101))\n",
        "\n",
        "    # Make features\n",
        "    X_to_pred_on = torch.from_numpy(np.column_stack((xx.ravel(), yy.ravel()))).float()\n",
        "\n",
        "    # Make predictions\n",
        "    model.eval()\n",
        "    with torch.inference_mode():\n",
        "        y_logits = model(X_to_pred_on)\n",
        "\n",
        "    # Test for multi-class or binary and adjust logits to prediction labels\n",
        "    if len(torch.unique(y)) > 2:\n",
        "        y_pred = torch.softmax(y_logits, dim=1).argmax(dim=1) # mutli-class\n",
        "    else:\n",
        "        y_pred = torch.round(torch.sigmoid(y_logits)) # binary\n",
        "\n",
        "    # Reshape preds and plot\n",
        "    y_pred = y_pred.reshape(xx.shape).detach().numpy()\n",
        "    plt.contourf(xx, yy, y_pred, cmap=plt.cm.RdYlBu, alpha=0.7)\n",
        "    plt.scatter(X[:, 0], X[:, 1], c=y, s=40, cmap=plt.cm.RdYlBu)\n",
        "    plt.xlim(xx.min(), xx.max())\n",
        "    plt.ylim(yy.min(), yy.max())"
      ],
      "metadata": {
        "id": "0YRzatb8a1P2"
      },
      "execution_count": 78,
      "outputs": []
    },
    {
      "cell_type": "code",
      "source": [
        "# Plot decision boundaries for training and test sets\n"
      ],
      "metadata": {
        "id": "PMrcpyirig1d"
      },
      "execution_count": 79,
      "outputs": []
    },
    {
      "cell_type": "markdown",
      "source": [
        "## 6. Replicate the Tanh (hyperbolic tangent) activation function in pure PyTorch.\n",
        "  * Feel free to reference the [ML cheatsheet website](https://ml-cheatsheet.readthedocs.io/en/latest/activation_functions.html#tanh) for the formula."
      ],
      "metadata": {
        "id": "EtMYBvtciiAU"
      }
    },
    {
      "cell_type": "code",
      "source": [
        "# Create a straight line tensor\n",
        "m = 3\n",
        "n = 0.2\n",
        "X_line = torch.range(-10, 10, 0.1)\n",
        "y_line = m * X_line + n\n"
      ],
      "metadata": {
        "id": "BlXaWC5TkEUE",
        "outputId": "729cdd9e-01ef-4bbd-b8de-a2f1002ae1ac",
        "colab": {
          "base_uri": "https://localhost:8080/"
        }
      },
      "execution_count": 86,
      "outputs": [
        {
          "output_type": "stream",
          "name": "stderr",
          "text": [
            "<ipython-input-86-3c21dbbfa4eb>:4: UserWarning: torch.range is deprecated and will be removed in a future release because its behavior is inconsistent with Python's range builtin. Instead, use torch.arange, which produces values in [start, end).\n",
            "  X_line = torch.range(-10, 10, 0.1)\n"
          ]
        }
      ]
    },
    {
      "cell_type": "code",
      "source": [
        "X_line.shape"
      ],
      "metadata": {
        "id": "vvy4qqKVx0LL",
        "outputId": "51a93753-c483-430d-9a64-7d6b51765084",
        "colab": {
          "base_uri": "https://localhost:8080/"
        }
      },
      "execution_count": 87,
      "outputs": [
        {
          "output_type": "execute_result",
          "data": {
            "text/plain": [
              "torch.Size([201])"
            ]
          },
          "metadata": {},
          "execution_count": 87
        }
      ]
    },
    {
      "cell_type": "code",
      "source": [
        "y_line.shape"
      ],
      "metadata": {
        "id": "RcVis8oMx35d",
        "outputId": "b83aec00-e635-417b-8315-dd75530e8291",
        "colab": {
          "base_uri": "https://localhost:8080/"
        }
      },
      "execution_count": 88,
      "outputs": [
        {
          "output_type": "execute_result",
          "data": {
            "text/plain": [
              "torch.Size([201])"
            ]
          },
          "metadata": {},
          "execution_count": 88
        }
      ]
    },
    {
      "cell_type": "code",
      "source": [],
      "metadata": {
        "id": "IlQmBT9Wx6PQ"
      },
      "execution_count": null,
      "outputs": []
    },
    {
      "cell_type": "code",
      "source": [
        "# Test torch.tanh() on the tensor and plot it\n",
        "y_tanh = torch.tanh(y_line)\n",
        "\n",
        "plt.scatter(X_line, y_tanh)\n"
      ],
      "metadata": {
        "id": "vZPCcQmIkZjO",
        "outputId": "b40efe74-45ed-4ed3-9a09-0bb9405d29e2",
        "colab": {
          "base_uri": "https://localhost:8080/",
          "height": 448
        }
      },
      "execution_count": 89,
      "outputs": [
        {
          "output_type": "execute_result",
          "data": {
            "text/plain": [
              "<matplotlib.collections.PathCollection at 0x782e89e76e30>"
            ]
          },
          "metadata": {},
          "execution_count": 89
        },
        {
          "output_type": "display_data",
          "data": {
            "text/plain": [
              "<Figure size 640x480 with 1 Axes>"
            ],
            "image/png": "[encoded data removed]"
          },
          "metadata": {}
        }
      ]
    },
    {
      "cell_type": "code",
      "source": [
        "# Replicate torch.tanh() and plot it\n",
        "y_tanh2 = torch.sinh(y_line)/torch.cosh(y_line)\n",
        "plt.scatter(X_line, y_tanh2)\n"
      ],
      "metadata": {
        "id": "J-ne__Kjkdc1",
        "outputId": "9464fa23-d83f-47a2-cd2f-84381295db49",
        "colab": {
          "base_uri": "https://localhost:8080/",
          "height": 448
        }
      },
      "execution_count": 90,
      "outputs": [
        {
          "output_type": "execute_result",
          "data": {
            "text/plain": [
              "<matplotlib.collections.PathCollection at 0x782e89d7bac0>"
            ]
          },
          "metadata": {},
          "execution_count": 90
        },
        {
          "output_type": "display_data",
          "data": {
            "text/plain": [
              "<Figure size 640x480 with 1 Axes>"
            ],
            "image/png": "[encoded data removed]"
          },
          "metadata": {}
        }
      ]
    },
    {
      "cell_type": "code",
      "source": [
        "def tanh(z):\n",
        "\treturn (np.exp(z) - np.exp(-z)) / (np.exp(z) + np.exp(-z))\n",
        "\n",
        "y_tanh3 = tanh(y_line)\n",
        "plt.scatter(X_line, y_tanh3)"
      ],
      "metadata": {
        "id": "i9udAO6YyoSc",
        "outputId": "645bea60-7686-4376-ed87-dbb70d54be7c",
        "colab": {
          "base_uri": "https://localhost:8080/",
          "height": 448
        }
      },
      "execution_count": 91,
      "outputs": [
        {
          "output_type": "execute_result",
          "data": {
            "text/plain": [
              "<matplotlib.collections.PathCollection at 0x782e89c71330>"
            ]
          },
          "metadata": {},
          "execution_count": 91
        },
        {
          "output_type": "display_data",
          "data": {
            "text/plain": [
              "<Figure size 640x480 with 1 Axes>"
            ],
            "image/png": "[encoded data removed]"
          },
          "metadata": {}
        }
      ]
    },
    {
      "cell_type": "markdown",
      "source": [
        "## 7. Create a multi-class dataset using the [spirals data creation function from CS231n](https://cs231n.github.io/neural-networks-case-study/) (see below for the code).\n",
        "  * Split the data into training and test sets (80% train, 20% test) as well as turn it into PyTorch tensors.\n",
        "  * Construct a model capable of fitting the data (you may need a combination of linear and non-linear layers).\n",
        "  * Build a loss function and optimizer capable of handling multi-class data (optional extension: use the Adam optimizer instead of SGD, you may have to experiment with different values of the learning rate to get it working).\n",
        "  * Make a training and testing loop for the multi-class data and train a model on it to reach over 95% testing accuracy (you can use any accuracy measuring function here that you like) - 1000 epochs should be plenty.\n",
        "  * Plot the decision boundaries on the spirals dataset from your model predictions, the `plot_decision_boundary()` function should work for this dataset too."
      ],
      "metadata": {
        "id": "Lbt1bNcWk5G9"
      }
    },
    {
      "cell_type": "code",
      "source": [
        "# Code for creating a spiral dataset from CS231n\n",
        "import numpy as np\n",
        "import matplotlib.pyplot as plt\n",
        "RANDOM_SEED = 42\n",
        "np.random.seed(RANDOM_SEED)\n",
        "N = 100 # number of points per class\n",
        "D = 2 # dimensionality\n",
        "K = 3 # number of classes\n",
        "X = np.zeros((N*K,D)) # data matrix (each row = single example)\n",
        "y = np.zeros(N*K, dtype='uint8') # class labels\n",
        "for j in range(K):\n",
        "  ix = range(N*j,N*(j+1))\n",
        "  r = np.linspace(0.0,1,N) # radius\n",
        "  t = np.linspace(j*4,(j+1)*4,N) + np.random.randn(N)*0.2 # theta\n",
        "  X[ix] = np.c_[r*np.sin(t), r*np.cos(t)]\n",
        "  y[ix] = j\n",
        "# lets visualize the data\n",
        "plt.scatter(X[:, 0], X[:, 1], c=y, s=40, cmap=plt.cm.RdYlBu)\n",
        "plt.show()"
      ],
      "metadata": {
        "colab": {
          "base_uri": "https://localhost:8080/",
          "height": 265
        },
        "id": "tU-UNZsKlJls",
        "outputId": "8b7b745a-070d-4ecb-c639-c4ee4d8eae06"
      },
      "execution_count": null,
      "outputs": [
        {
          "output_type": "display_data",
          "data": {
            "image/png": "[encoded data removed]",
            "text/plain": [
              "<Figure size 432x288 with 1 Axes>"
            ]
          },
          "metadata": {
            "needs_background": "light"
          }
        }
      ]
    },
    {
      "cell_type": "code",
      "source": [
        "# Turn data into tensors\n",
        "import torch\n",
        "X = torch.from_numpy(X).type(torch.float) # features as float32\n",
        "y = torch.from_numpy(y).type(torch.LongTensor) # labels need to be of type long\n",
        "\n",
        "# Create train and test splits\n",
        "from sklearn.model_selection import train_test_split\n"
      ],
      "metadata": {
        "id": "OWVrmkEyl0VP"
      },
      "execution_count": null,
      "outputs": []
    },
    {
      "cell_type": "code",
      "source": [
        "# Let's calculuate the accuracy for when we fit our model\n",
        "!pip -q install torchmetrics # colab doesn't come with torchmetrics\n",
        "from torchmetrics import Accuracy\n",
        "\n",
        "## TODO: uncomment the two lines below to send the accuracy function to the device\n",
        "# acc_fn = Accuracy(task=\"multiclass\", num_classes=4).to(device)\n",
        "# acc_fn"
      ],
      "metadata": {
        "id": "a-v-7f0op0tG"
      },
      "execution_count": null,
      "outputs": []
    },
    {
      "cell_type": "code",
      "source": [
        "# Prepare device agnostic code\n",
        "# device = \"cuda\" if torch.cuda.is_available() else \"cpu\"\n",
        "\n",
        "# Create model by subclassing nn.Module\n",
        "\n",
        "\n",
        "\n",
        "# Instantiate model and send it to device\n"
      ],
      "metadata": {
        "id": "DB3u3ldumapf"
      },
      "execution_count": null,
      "outputs": []
    },
    {
      "cell_type": "code",
      "source": [
        "# Setup data to be device agnostic\n",
        "\n",
        "\n",
        "# Print out first 10 untrained model outputs (forward pass)\n",
        "print(\"Logits:\")\n",
        "## Your code here ##\n",
        "\n",
        "print(\"Pred probs:\")\n",
        "## Your code here ##\n",
        "\n",
        "print(\"Pred labels:\")\n",
        "## Your code here ##"
      ],
      "metadata": {
        "colab": {
          "base_uri": "https://localhost:8080/"
        },
        "id": "QE7XWSSunMTS",
        "outputId": "00b31909-87c9-41e3-9dbb-fb4c4bd3aabd"
      },
      "execution_count": null,
      "outputs": [
        {
          "output_type": "stream",
          "name": "stdout",
          "text": [
            "Logits:\n",
            "Pred probs:\n",
            "Pred labels:\n"
          ]
        }
      ]
    },
    {
      "cell_type": "code",
      "source": [
        "# Setup loss function and optimizer\n",
        "# loss_fn =\n",
        "# optimizer ="
      ],
      "metadata": {
        "id": "54EqLRKLo0AW"
      },
      "execution_count": null,
      "outputs": []
    },
    {
      "cell_type": "code",
      "source": [
        "# Build a training loop for the model\n",
        "\n",
        "# Loop over data\n",
        "\n",
        "\n",
        "  ## Training\n",
        "\n",
        "  # 1. Forward pass\n",
        "\n",
        "\n",
        "  # 2. Calculate the loss\n",
        "\n",
        "\n",
        "  # 3. Optimizer zero grad\n",
        "\n",
        "\n",
        "  # 4. Loss backward\n",
        "\n",
        "\n",
        "  # 5. Optimizer step\n",
        "\n",
        "\n",
        "  ## Testing\n",
        "\n",
        "\n",
        "    # 1. Forward pass\n",
        "\n",
        "    # 2. Caculate loss and acc\n",
        "\n",
        "  # Print out what's happening every 100 epochs\n",
        ""
      ],
      "metadata": {
        "id": "vIlExkUHnmxi"
      },
      "execution_count": null,
      "outputs": []
    },
    {
      "cell_type": "code",
      "source": [
        "# Plot decision boundaries for training and test sets\n"
      ],
      "metadata": {
        "id": "JrwVRbaE0keT"
      },
      "execution_count": null,
      "outputs": []
    }
  ]
}